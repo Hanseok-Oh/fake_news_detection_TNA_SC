{
  "nbformat": 4,
  "nbformat_minor": 0,
  "metadata": {
    "colab": {
      "name": "190730_model_construction.ipynb",
      "version": "0.3.2",
      "provenance": [],
      "collapsed_sections": [
        "6mgCJmLzyTAr",
        "idfMx-Gs47Fc",
        "1dXhJ-uJ_dCT",
        "00xjjInZA_bt"
      ],
      "toc_visible": true
    },
    "kernelspec": {
      "name": "python3",
      "display_name": "Python 3"
    },
    "accelerator": "GPU"
  },
  "cells": [
    {
      "cell_type": "markdown",
      "metadata": {
        "id": "qpyPjD4Gw3iP",
        "colab_type": "text"
      },
      "source": [
        "# Preparation"
      ]
    },
    {
      "cell_type": "markdown",
      "metadata": {
        "id": "YbsNFqzgJsQe",
        "colab_type": "text"
      },
      "source": [
        "\n",
        "Import\n",
        "---\n",
        "\n"
      ]
    },
    {
      "cell_type": "code",
      "metadata": {
        "id": "LiuYCwygxIm_",
        "colab_type": "code",
        "outputId": "974c9160-4a00-4f09-c604-88ea71cbe955",
        "colab": {
          "base_uri": "https://localhost:8080/",
          "height": 505
        }
      },
      "source": [
        "!pip install mglearn"
      ],
      "execution_count": 4,
      "outputs": [
        {
          "output_type": "stream",
          "text": [
            "Collecting mglearn\n",
            "\u001b[?25l  Downloading https://files.pythonhosted.org/packages/fb/01/8d3630ecc767c9de96a9c46e055f2a3a5f9e14a47d3d0348a36a5005fe67/mglearn-0.1.7.tar.gz (540kB)\n",
            "\u001b[K     |████████████████████████████████| 542kB 1.5MB/s \n",
            "\u001b[?25hRequirement already satisfied: numpy in /usr/local/lib/python3.6/dist-packages (from mglearn) (1.16.4)\n",
            "Requirement already satisfied: matplotlib in /usr/local/lib/python3.6/dist-packages (from mglearn) (3.0.3)\n",
            "Requirement already satisfied: scikit-learn in /usr/local/lib/python3.6/dist-packages (from mglearn) (0.21.2)\n",
            "Requirement already satisfied: pandas in /usr/local/lib/python3.6/dist-packages (from mglearn) (0.24.2)\n",
            "Requirement already satisfied: pillow in /usr/local/lib/python3.6/dist-packages (from mglearn) (4.3.0)\n",
            "Requirement already satisfied: cycler in /usr/local/lib/python3.6/dist-packages (from mglearn) (0.10.0)\n",
            "Requirement already satisfied: imageio in /usr/local/lib/python3.6/dist-packages (from mglearn) (2.4.1)\n",
            "Requirement already satisfied: python-dateutil>=2.1 in /usr/local/lib/python3.6/dist-packages (from matplotlib->mglearn) (2.5.3)\n",
            "Requirement already satisfied: kiwisolver>=1.0.1 in /usr/local/lib/python3.6/dist-packages (from matplotlib->mglearn) (1.1.0)\n",
            "Requirement already satisfied: pyparsing!=2.0.4,!=2.1.2,!=2.1.6,>=2.0.1 in /usr/local/lib/python3.6/dist-packages (from matplotlib->mglearn) (2.4.0)\n",
            "Requirement already satisfied: joblib>=0.11 in /usr/local/lib/python3.6/dist-packages (from scikit-learn->mglearn) (0.13.2)\n",
            "Requirement already satisfied: scipy>=0.17.0 in /usr/local/lib/python3.6/dist-packages (from scikit-learn->mglearn) (1.3.0)\n",
            "Requirement already satisfied: pytz>=2011k in /usr/local/lib/python3.6/dist-packages (from pandas->mglearn) (2018.9)\n",
            "Requirement already satisfied: olefile in /usr/local/lib/python3.6/dist-packages (from pillow->mglearn) (0.46)\n",
            "Requirement already satisfied: six in /usr/local/lib/python3.6/dist-packages (from cycler->mglearn) (1.12.0)\n",
            "Requirement already satisfied: setuptools in /usr/local/lib/python3.6/dist-packages (from kiwisolver>=1.0.1->matplotlib->mglearn) (41.0.1)\n",
            "Building wheels for collected packages: mglearn\n",
            "  Building wheel for mglearn (setup.py) ... \u001b[?25l\u001b[?25hdone\n",
            "  Created wheel for mglearn: filename=mglearn-0.1.7-py2.py3-none-any.whl size=582706 sha256=3084dd181f86f598780ce22ba11d5e3fc1575b6c9a610f4c1a7e8ba07b95688b\n",
            "  Stored in directory: /root/.cache/pip/wheels/74/cf/8d/04f4932d15854a36726c6210763c7127e62de28f5c8ddfcf3b\n",
            "Successfully built mglearn\n",
            "Installing collected packages: mglearn\n",
            "Successfully installed mglearn-0.1.7\n"
          ],
          "name": "stdout"
        }
      ]
    },
    {
      "cell_type": "code",
      "metadata": {
        "id": "wWlXvp29wKrk",
        "colab_type": "code",
        "outputId": "04994c37-12b8-4a76-8a2c-8f97802d59aa",
        "colab": {
          "base_uri": "https://localhost:8080/",
          "height": 109
        }
      },
      "source": [
        "import pandas as pd\n",
        "import numpy as np\n",
        "import matplotlib.pyplot as plt\n",
        "%matplotlib inline\n",
        "from IPython.display import display\n",
        "import mglearn\n",
        "\n",
        "import warnings\n",
        "warnings.filterwarnings(\"ignore\",category=DeprecationWarning)"
      ],
      "execution_count": 1,
      "outputs": [
        {
          "output_type": "stream",
          "text": [
            "/usr/local/lib/python3.6/dist-packages/sklearn/externals/six.py:31: DeprecationWarning: The module is deprecated in version 0.21 and will be removed in version 0.23 since we've dropped support for Python 2.7. Please rely on the official version of six (https://pypi.org/project/six/).\n",
            "  \"(https://pypi.org/project/six/).\", DeprecationWarning)\n",
            "/usr/local/lib/python3.6/dist-packages/sklearn/externals/joblib/__init__.py:15: DeprecationWarning: sklearn.externals.joblib is deprecated in 0.21 and will be removed in 0.23. Please import this functionality directly from joblib, which can be installed with: pip install joblib. If this warning is raised when loading pickled models, you may need to re-serialize those models with scikit-learn 0.21+.\n",
            "  warnings.warn(msg, category=DeprecationWarning)\n"
          ],
          "name": "stderr"
        }
      ]
    },
    {
      "cell_type": "markdown",
      "metadata": {
        "id": "XGzExIw-JvE9",
        "colab_type": "text"
      },
      "source": [
        "\n",
        "Data Load and check\n",
        "---\n",
        "\n"
      ]
    },
    {
      "cell_type": "code",
      "metadata": {
        "id": "VZ-Agz6Zw7Kv",
        "colab_type": "code",
        "colab": {}
      },
      "source": [
        "result = pd.read_csv('/content/result.csv', index_col=0)"
      ],
      "execution_count": 0,
      "outputs": []
    },
    {
      "cell_type": "code",
      "metadata": {
        "id": "mjSWVXS2xnh9",
        "colab_type": "code",
        "outputId": "3c9e5e9c-dc15-42b9-a7b6-c3757a58f165",
        "colab": {
          "base_uri": "https://localhost:8080/",
          "height": 0
        }
      },
      "source": [
        "result.info()"
      ],
      "execution_count": 3,
      "outputs": [
        {
          "output_type": "stream",
          "text": [
            "<class 'pandas.core.frame.DataFrame'>\n",
            "Float64Index: 895 entries, 1015380000000000.0 to 1291950000000000.0\n",
            "Data columns (total 11 columns):\n",
            "tfidf_mean    895 non-null float64\n",
            "tfidf_var     895 non-null float64\n",
            "wt_mean       895 non-null float64\n",
            "wt_var        895 non-null float64\n",
            "edge_num      895 non-null int64\n",
            "com_mean      895 non-null float64\n",
            "com_var       895 non-null float64\n",
            "core_count    895 non-null int64\n",
            "betweeness    895 non-null float64\n",
            "label         895 non-null int64\n",
            "index         895 non-null float64\n",
            "dtypes: float64(8), int64(3)\n",
            "memory usage: 83.9 KB\n"
          ],
          "name": "stdout"
        }
      ]
    },
    {
      "cell_type": "code",
      "metadata": {
        "id": "9NB0c74zMZQw",
        "colab_type": "code",
        "colab": {
          "base_uri": "https://localhost:8080/",
          "height": 0
        },
        "outputId": "0cc4af48-e883-4bc1-d3b7-9784deb99a6b"
      },
      "source": [
        "result.head()"
      ],
      "execution_count": 4,
      "outputs": [
        {
          "output_type": "execute_result",
          "data": {
            "text/html": [
              "<div>\n",
              "<style scoped>\n",
              "    .dataframe tbody tr th:only-of-type {\n",
              "        vertical-align: middle;\n",
              "    }\n",
              "\n",
              "    .dataframe tbody tr th {\n",
              "        vertical-align: top;\n",
              "    }\n",
              "\n",
              "    .dataframe thead th {\n",
              "        text-align: right;\n",
              "    }\n",
              "</style>\n",
              "<table border=\"1\" class=\"dataframe\">\n",
              "  <thead>\n",
              "    <tr style=\"text-align: right;\">\n",
              "      <th></th>\n",
              "      <th>tfidf_mean</th>\n",
              "      <th>tfidf_var</th>\n",
              "      <th>wt_mean</th>\n",
              "      <th>wt_var</th>\n",
              "      <th>edge_num</th>\n",
              "      <th>com_mean</th>\n",
              "      <th>com_var</th>\n",
              "      <th>core_count</th>\n",
              "      <th>betweeness</th>\n",
              "      <th>label</th>\n",
              "      <th>index</th>\n",
              "    </tr>\n",
              "  </thead>\n",
              "  <tbody>\n",
              "    <tr>\n",
              "      <th>1.015380e+15</th>\n",
              "      <td>0.580047</td>\n",
              "      <td>3.446308</td>\n",
              "      <td>49.839074</td>\n",
              "      <td>66773.189930</td>\n",
              "      <td>851</td>\n",
              "      <td>12.236193</td>\n",
              "      <td>11.073473</td>\n",
              "      <td>19</td>\n",
              "      <td>0.000061</td>\n",
              "      <td>0</td>\n",
              "      <td>1.015380e+15</td>\n",
              "    </tr>\n",
              "    <tr>\n",
              "      <th>1.015380e+15</th>\n",
              "      <td>0.580047</td>\n",
              "      <td>3.446308</td>\n",
              "      <td>48.776235</td>\n",
              "      <td>30268.622950</td>\n",
              "      <td>1880</td>\n",
              "      <td>19.243085</td>\n",
              "      <td>55.099952</td>\n",
              "      <td>32</td>\n",
              "      <td>0.000008</td>\n",
              "      <td>0</td>\n",
              "      <td>1.015380e+15</td>\n",
              "    </tr>\n",
              "    <tr>\n",
              "      <th>1.036150e+15</th>\n",
              "      <td>0.580047</td>\n",
              "      <td>3.446308</td>\n",
              "      <td>66.430436</td>\n",
              "      <td>53579.221810</td>\n",
              "      <td>262</td>\n",
              "      <td>10.706107</td>\n",
              "      <td>11.467062</td>\n",
              "      <td>6</td>\n",
              "      <td>0.000378</td>\n",
              "      <td>0</td>\n",
              "      <td>1.036150e+15</td>\n",
              "    </tr>\n",
              "    <tr>\n",
              "      <th>1.037220e+15</th>\n",
              "      <td>0.580047</td>\n",
              "      <td>3.446308</td>\n",
              "      <td>34.421041</td>\n",
              "      <td>24854.554330</td>\n",
              "      <td>449</td>\n",
              "      <td>17.365256</td>\n",
              "      <td>48.459016</td>\n",
              "      <td>6</td>\n",
              "      <td>0.000164</td>\n",
              "      <td>0</td>\n",
              "      <td>1.037220e+15</td>\n",
              "    </tr>\n",
              "    <tr>\n",
              "      <th>1.245720e+15</th>\n",
              "      <td>0.580047</td>\n",
              "      <td>3.446308</td>\n",
              "      <td>21.683436</td>\n",
              "      <td>5115.391601</td>\n",
              "      <td>522</td>\n",
              "      <td>20.109195</td>\n",
              "      <td>52.790758</td>\n",
              "      <td>6</td>\n",
              "      <td>0.000186</td>\n",
              "      <td>0</td>\n",
              "      <td>1.245720e+15</td>\n",
              "    </tr>\n",
              "  </tbody>\n",
              "</table>\n",
              "</div>"
            ],
            "text/plain": [
              "              tfidf_mean  tfidf_var    wt_mean  ...  betweeness  label         index\n",
              "1.015380e+15    0.580047   3.446308  49.839074  ...    0.000061      0  1.015380e+15\n",
              "1.015380e+15    0.580047   3.446308  48.776235  ...    0.000008      0  1.015380e+15\n",
              "1.036150e+15    0.580047   3.446308  66.430436  ...    0.000378      0  1.036150e+15\n",
              "1.037220e+15    0.580047   3.446308  34.421041  ...    0.000164      0  1.037220e+15\n",
              "1.245720e+15    0.580047   3.446308  21.683436  ...    0.000186      0  1.245720e+15\n",
              "\n",
              "[5 rows x 11 columns]"
            ]
          },
          "metadata": {
            "tags": []
          },
          "execution_count": 4
        }
      ]
    },
    {
      "cell_type": "markdown",
      "metadata": {
        "id": "YK6Ejmz8EpZq",
        "colab_type": "text"
      },
      "source": [
        "\n",
        "*Data Preprocessing - drop & label reverse\n",
        "---\n"
      ]
    },
    {
      "cell_type": "code",
      "metadata": {
        "id": "qI1pOxCP73yE",
        "colab_type": "code",
        "colab": {}
      },
      "source": [
        "result = result.drop(columns = ['tfidf_mean', 'tfidf_var', 'index'], axis = 1)"
      ],
      "execution_count": 0,
      "outputs": []
    },
    {
      "cell_type": "code",
      "metadata": {
        "id": "wWGIUE9C8hMd",
        "colab_type": "code",
        "outputId": "cbad7afd-1d6d-4c7e-b7f6-3a6b28d977cb",
        "colab": {
          "base_uri": "https://localhost:8080/",
          "height": 35
        }
      },
      "source": [
        "result.shape"
      ],
      "execution_count": 6,
      "outputs": [
        {
          "output_type": "execute_result",
          "data": {
            "text/plain": [
              "(895, 8)"
            ]
          },
          "metadata": {
            "tags": []
          },
          "execution_count": 6
        }
      ]
    },
    {
      "cell_type": "markdown",
      "metadata": {
        "id": "2x7mrrDVL8z-",
        "colab_type": "text"
      },
      "source": [
        "1. 처음에는 Truly True를 하는 방향으로 생각했기에 True = 1 로 잡았지만 positive 를 Fake 로 주는게 더 좋을 것 같아 일단 바꿈. 물론 True 를 1로 하면 반대로 생각하면 되지만.. 헷갈려져서"
      ]
    },
    {
      "cell_type": "code",
      "metadata": {
        "id": "NAzXkFF_E_IZ",
        "colab_type": "code",
        "colab": {}
      },
      "source": [
        "result.loc[result['label'] == 0, 'label'] = 0.9 # 둘 중 하나 먼저 바꾸면 합쳐져버리므로\n",
        "result.loc[result['label'] == 1, 'label'] = 0\n",
        "result.loc[result['label'] == 0.9, 'label'] = 1\n"
      ],
      "execution_count": 0,
      "outputs": []
    },
    {
      "cell_type": "code",
      "metadata": {
        "id": "gp3_X853w7FM",
        "colab_type": "code",
        "outputId": "81d195f3-2011-47f0-f0c9-b8544f68d406",
        "colab": {
          "base_uri": "https://localhost:8080/",
          "height": 35
        }
      },
      "source": [
        "fake = result[result['label'] == 1] \n",
        "fake.shape"
      ],
      "execution_count": 8,
      "outputs": [
        {
          "output_type": "execute_result",
          "data": {
            "text/plain": [
              "(58, 8)"
            ]
          },
          "metadata": {
            "tags": []
          },
          "execution_count": 8
        }
      ]
    },
    {
      "cell_type": "code",
      "metadata": {
        "id": "z9f3OSVPxvcT",
        "colab_type": "code",
        "outputId": "c4e2c74f-eadb-4ad7-ca71-af0618b3f84f",
        "colab": {
          "base_uri": "https://localhost:8080/",
          "height": 297
        }
      },
      "source": [
        "true = result[result['label'] == 0]\n",
        "true.describe()"
      ],
      "execution_count": 9,
      "outputs": [
        {
          "output_type": "execute_result",
          "data": {
            "text/html": [
              "<div>\n",
              "<style scoped>\n",
              "    .dataframe tbody tr th:only-of-type {\n",
              "        vertical-align: middle;\n",
              "    }\n",
              "\n",
              "    .dataframe tbody tr th {\n",
              "        vertical-align: top;\n",
              "    }\n",
              "\n",
              "    .dataframe thead th {\n",
              "        text-align: right;\n",
              "    }\n",
              "</style>\n",
              "<table border=\"1\" class=\"dataframe\">\n",
              "  <thead>\n",
              "    <tr style=\"text-align: right;\">\n",
              "      <th></th>\n",
              "      <th>wt_mean</th>\n",
              "      <th>wt_var</th>\n",
              "      <th>edge_num</th>\n",
              "      <th>com_mean</th>\n",
              "      <th>com_var</th>\n",
              "      <th>core_count</th>\n",
              "      <th>betweeness</th>\n",
              "      <th>label</th>\n",
              "    </tr>\n",
              "  </thead>\n",
              "  <tbody>\n",
              "    <tr>\n",
              "      <th>count</th>\n",
              "      <td>837.000000</td>\n",
              "      <td>8.370000e+02</td>\n",
              "      <td>837.000000</td>\n",
              "      <td>837.000000</td>\n",
              "      <td>837.000000</td>\n",
              "      <td>837.000000</td>\n",
              "      <td>837.000000</td>\n",
              "      <td>837.0</td>\n",
              "    </tr>\n",
              "    <tr>\n",
              "      <th>mean</th>\n",
              "      <td>52.632116</td>\n",
              "      <td>7.192862e+04</td>\n",
              "      <td>1997.978495</td>\n",
              "      <td>15.854876</td>\n",
              "      <td>95.945559</td>\n",
              "      <td>35.145759</td>\n",
              "      <td>0.000071</td>\n",
              "      <td>0.0</td>\n",
              "    </tr>\n",
              "    <tr>\n",
              "      <th>std</th>\n",
              "      <td>31.218960</td>\n",
              "      <td>1.385127e+05</td>\n",
              "      <td>6558.025062</td>\n",
              "      <td>19.025565</td>\n",
              "      <td>609.207070</td>\n",
              "      <td>38.786377</td>\n",
              "      <td>0.000165</td>\n",
              "      <td>0.0</td>\n",
              "    </tr>\n",
              "    <tr>\n",
              "      <th>min</th>\n",
              "      <td>3.079937</td>\n",
              "      <td>1.124754e+02</td>\n",
              "      <td>60.000000</td>\n",
              "      <td>3.660000</td>\n",
              "      <td>1.993802</td>\n",
              "      <td>0.000000</td>\n",
              "      <td>0.000000</td>\n",
              "      <td>0.0</td>\n",
              "    </tr>\n",
              "    <tr>\n",
              "      <th>25%</th>\n",
              "      <td>32.290374</td>\n",
              "      <td>1.325477e+04</td>\n",
              "      <td>614.000000</td>\n",
              "      <td>11.130978</td>\n",
              "      <td>19.067185</td>\n",
              "      <td>13.000000</td>\n",
              "      <td>0.000011</td>\n",
              "      <td>0.0</td>\n",
              "    </tr>\n",
              "    <tr>\n",
              "      <th>50%</th>\n",
              "      <td>44.947297</td>\n",
              "      <td>3.088787e+04</td>\n",
              "      <td>1010.000000</td>\n",
              "      <td>13.693526</td>\n",
              "      <td>32.215669</td>\n",
              "      <td>23.000000</td>\n",
              "      <td>0.000032</td>\n",
              "      <td>0.0</td>\n",
              "    </tr>\n",
              "    <tr>\n",
              "      <th>75%</th>\n",
              "      <td>66.459862</td>\n",
              "      <td>7.468802e+04</td>\n",
              "      <td>1917.000000</td>\n",
              "      <td>16.528087</td>\n",
              "      <td>52.265191</td>\n",
              "      <td>48.000000</td>\n",
              "      <td>0.000071</td>\n",
              "      <td>0.0</td>\n",
              "    </tr>\n",
              "    <tr>\n",
              "      <th>max</th>\n",
              "      <td>218.094158</td>\n",
              "      <td>1.844746e+06</td>\n",
              "      <td>95494.000000</td>\n",
              "      <td>309.209629</td>\n",
              "      <td>9146.026678</td>\n",
              "      <td>395.000000</td>\n",
              "      <td>0.003022</td>\n",
              "      <td>0.0</td>\n",
              "    </tr>\n",
              "  </tbody>\n",
              "</table>\n",
              "</div>"
            ],
            "text/plain": [
              "          wt_mean        wt_var      edge_num  ...  core_count  betweeness  label\n",
              "count  837.000000  8.370000e+02    837.000000  ...  837.000000  837.000000  837.0\n",
              "mean    52.632116  7.192862e+04   1997.978495  ...   35.145759    0.000071    0.0\n",
              "std     31.218960  1.385127e+05   6558.025062  ...   38.786377    0.000165    0.0\n",
              "min      3.079937  1.124754e+02     60.000000  ...    0.000000    0.000000    0.0\n",
              "25%     32.290374  1.325477e+04    614.000000  ...   13.000000    0.000011    0.0\n",
              "50%     44.947297  3.088787e+04   1010.000000  ...   23.000000    0.000032    0.0\n",
              "75%     66.459862  7.468802e+04   1917.000000  ...   48.000000    0.000071    0.0\n",
              "max    218.094158  1.844746e+06  95494.000000  ...  395.000000    0.003022    0.0\n",
              "\n",
              "[8 rows x 8 columns]"
            ]
          },
          "metadata": {
            "tags": []
          },
          "execution_count": 9
        }
      ]
    },
    {
      "cell_type": "code",
      "metadata": {
        "id": "dezGLNmf0Wdm",
        "colab_type": "code",
        "colab": {}
      },
      "source": [
        "target_label = result['label'].values"
      ],
      "execution_count": 0,
      "outputs": []
    },
    {
      "cell_type": "markdown",
      "metadata": {
        "id": "k2lbSV9lBpgb",
        "colab_type": "text"
      },
      "source": [
        "\n",
        "Train/Test Split\n",
        "---\n",
        "\n",
        "\n",
        "\n"
      ]
    },
    {
      "cell_type": "code",
      "metadata": {
        "id": "E_DhcLFvw673",
        "colab_type": "code",
        "colab": {}
      },
      "source": [
        "from sklearn.model_selection import train_test_split"
      ],
      "execution_count": 0,
      "outputs": []
    },
    {
      "cell_type": "code",
      "metadata": {
        "id": "bO9ax-Fww-zW",
        "colab_type": "code",
        "colab": {}
      },
      "source": [
        "X_train = result.drop('label', axis=1).values\n",
        "target_label = result['label'].values\n",
        "# X_test = test.values"
      ],
      "execution_count": 0,
      "outputs": []
    },
    {
      "cell_type": "code",
      "metadata": {
        "id": "bDA22JFfxAfM",
        "colab_type": "code",
        "colab": {}
      },
      "source": [
        "X_tr, X_test, y_tr, y_test = train_test_split(X_train, target_label, test_size=0.3, random_state=2019)"
      ],
      "execution_count": 0,
      "outputs": []
    },
    {
      "cell_type": "code",
      "metadata": {
        "id": "ZBkKA5F83erU",
        "colab_type": "code",
        "outputId": "f0a2e89a-4bc5-4be5-ec71-0910b1ddee94",
        "colab": {
          "base_uri": "https://localhost:8080/",
          "height": 35
        }
      },
      "source": [
        "X_tr.shape"
      ],
      "execution_count": 14,
      "outputs": [
        {
          "output_type": "execute_result",
          "data": {
            "text/plain": [
              "(626, 7)"
            ]
          },
          "metadata": {
            "tags": []
          },
          "execution_count": 14
        }
      ]
    },
    {
      "cell_type": "code",
      "metadata": {
        "id": "zfJOwKCe3xjF",
        "colab_type": "code",
        "outputId": "51c386d8-f675-4fad-af22-a22bb8970636",
        "colab": {
          "base_uri": "https://localhost:8080/",
          "height": 35
        }
      },
      "source": [
        "X_test.shape"
      ],
      "execution_count": 15,
      "outputs": [
        {
          "output_type": "execute_result",
          "data": {
            "text/plain": [
              "(269, 7)"
            ]
          },
          "metadata": {
            "tags": []
          },
          "execution_count": 15
        }
      ]
    },
    {
      "cell_type": "code",
      "metadata": {
        "id": "RM6O834p4_e7",
        "colab_type": "code",
        "colab": {}
      },
      "source": [
        "df_test = pd.DataFrame(y_test)"
      ],
      "execution_count": 0,
      "outputs": []
    },
    {
      "cell_type": "code",
      "metadata": {
        "id": "kyQSPR7z5rUw",
        "colab_type": "code",
        "outputId": "6545d1d1-6cce-40e3-9836-69ad05ffe164",
        "colab": {
          "base_uri": "https://localhost:8080/",
          "height": 53
        }
      },
      "source": [
        "df_test.sum()"
      ],
      "execution_count": 17,
      "outputs": [
        {
          "output_type": "execute_result",
          "data": {
            "text/plain": [
              "0    20.0\n",
              "dtype: float64"
            ]
          },
          "metadata": {
            "tags": []
          },
          "execution_count": 17
        }
      ]
    },
    {
      "cell_type": "markdown",
      "metadata": {
        "id": "cQtRMRp1MRDi",
        "colab_type": "text"
      },
      "source": [
        "\n",
        "*Data Preprocessing - Scaling\n",
        "---\n",
        "\n"
      ]
    },
    {
      "cell_type": "markdown",
      "metadata": {
        "id": "lux793RDJ7Vb",
        "colab_type": "text"
      },
      "source": [
        "2. Standard Scaler 사용해서 scaling 하기 "
      ]
    },
    {
      "cell_type": "code",
      "metadata": {
        "id": "3B9b72tELW8Y",
        "colab_type": "code",
        "colab": {}
      },
      "source": [
        "from sklearn.preprocessing import StandardScaler\n",
        "\n",
        "\n",
        "scaler = StandardScaler()\n",
        "scaler.fit(X_tr)\n",
        "X_tr_scaled = scaler.transform(X_tr)\n",
        "X_test_scaled = scaler.transform(X_test)"
      ],
      "execution_count": 0,
      "outputs": []
    },
    {
      "cell_type": "markdown",
      "metadata": {
        "id": "6mgCJmLzyTAr",
        "colab_type": "text"
      },
      "source": [
        "# Baseline model"
      ]
    },
    {
      "cell_type": "markdown",
      "metadata": {
        "id": "idfMx-Gs47Fc",
        "colab_type": "text"
      },
      "source": [
        "\n",
        "Baseline Model Building\n",
        "---\n",
        "\n"
      ]
    },
    {
      "cell_type": "code",
      "metadata": {
        "id": "mm-4HdbDxCMX",
        "colab_type": "code",
        "colab": {}
      },
      "source": [
        "from sklearn.ensemble import RandomForestClassifier\n",
        "model = RandomForestClassifier()\n",
        "model.fit(X_tr_scaled, y_tr)"
      ],
      "execution_count": 0,
      "outputs": []
    },
    {
      "cell_type": "code",
      "metadata": {
        "id": "_WAkWrbUxGm3",
        "colab_type": "code",
        "colab": {}
      },
      "source": [
        "prediction = model.predict(X_test_scaled)"
      ],
      "execution_count": 0,
      "outputs": []
    },
    {
      "cell_type": "code",
      "metadata": {
        "id": "MBfI-uX61dkU",
        "colab_type": "code",
        "outputId": "e5c6d118-f910-4a55-cfb5-828eb4fecb2d",
        "colab": {
          "base_uri": "https://localhost:8080/",
          "height": 0
        }
      },
      "source": [
        "from sklearn.metrics import f1_score, accuracy_score, confusion_matrix\n",
        "f1_score(y_test, prediction, average = 'macro')"
      ],
      "execution_count": 26,
      "outputs": [
        {
          "output_type": "execute_result",
          "data": {
            "text/plain": [
              "0.5444281359376764"
            ]
          },
          "metadata": {
            "tags": []
          },
          "execution_count": 26
        }
      ]
    },
    {
      "cell_type": "code",
      "metadata": {
        "id": "cCZ4keyF2au1",
        "colab_type": "code",
        "outputId": "54e943c2-2387-45f0-9335-d201df9a500c",
        "colab": {
          "base_uri": "https://localhost:8080/",
          "height": 0
        }
      },
      "source": [
        "accuracy_score(y_test, prediction)"
      ],
      "execution_count": 27,
      "outputs": [
        {
          "output_type": "execute_result",
          "data": {
            "text/plain": [
              "0.9442379182156134"
            ]
          },
          "metadata": {
            "tags": []
          },
          "execution_count": 27
        }
      ]
    },
    {
      "cell_type": "code",
      "metadata": {
        "id": "eDB8bPDF29lr",
        "colab_type": "code",
        "outputId": "280b4e18-8c01-4f7b-b44f-e55974d5ae06",
        "colab": {
          "base_uri": "https://localhost:8080/",
          "height": 0
        }
      },
      "source": [
        "confusion_matrix(y_test, prediction)"
      ],
      "execution_count": 28,
      "outputs": [
        {
          "output_type": "execute_result",
          "data": {
            "text/plain": [
              "array([[253,   2],\n",
              "       [ 13,   1]])"
            ]
          },
          "metadata": {
            "tags": []
          },
          "execution_count": 28
        }
      ]
    },
    {
      "cell_type": "code",
      "metadata": {
        "id": "MHjOmRU23Xd5",
        "colab_type": "code",
        "outputId": "96c0f22c-9f02-47d9-e976-5b566b4feb13",
        "colab": {
          "base_uri": "https://localhost:8080/",
          "height": 36
        }
      },
      "source": [
        "recall = (251) / (251+13)\n",
        "print(f'Recall is :{recall}')"
      ],
      "execution_count": 0,
      "outputs": [
        {
          "output_type": "stream",
          "text": [
            "Recall is :0.9560439560439561\n"
          ],
          "name": "stdout"
        }
      ]
    },
    {
      "cell_type": "markdown",
      "metadata": {
        "id": "1dXhJ-uJ_dCT",
        "colab_type": "text"
      },
      "source": [
        "\n",
        "SVM Model default\n",
        "---\n",
        "\n"
      ]
    },
    {
      "cell_type": "code",
      "metadata": {
        "id": "igEbATBt9djR",
        "colab_type": "code",
        "colab": {}
      },
      "source": [
        "from sklearn.svm import SVC"
      ],
      "execution_count": 0,
      "outputs": []
    },
    {
      "cell_type": "code",
      "metadata": {
        "id": "_Hms1aHu_mcF",
        "colab_type": "code",
        "outputId": "85bc1b34-366d-499b-aeb7-aea9e64ec3d3",
        "colab": {
          "base_uri": "https://localhost:8080/",
          "height": 0
        }
      },
      "source": [
        "model_svm = SVC()\n",
        "model_svm.fit(X_tr_scaled, y_tr)"
      ],
      "execution_count": 30,
      "outputs": [
        {
          "output_type": "execute_result",
          "data": {
            "text/plain": [
              "SVC(C=1.0, cache_size=200, class_weight=None, coef0=0.0,\n",
              "    decision_function_shape='ovr', degree=3, gamma='auto_deprecated',\n",
              "    kernel='rbf', max_iter=-1, probability=False, random_state=None,\n",
              "    shrinking=True, tol=0.001, verbose=False)"
            ]
          },
          "metadata": {
            "tags": []
          },
          "execution_count": 30
        }
      ]
    },
    {
      "cell_type": "code",
      "metadata": {
        "id": "8FtvqJPW_94e",
        "colab_type": "code",
        "colab": {}
      },
      "source": [
        "prediction_svm = model_svm.predict(X_test_scaled)"
      ],
      "execution_count": 0,
      "outputs": []
    },
    {
      "cell_type": "code",
      "metadata": {
        "id": "HI0FSY-oAHxd",
        "colab_type": "code",
        "outputId": "2e89a314-ec86-4bf1-e13d-357e68dd3de6",
        "colab": {
          "base_uri": "https://localhost:8080/",
          "height": 0
        }
      },
      "source": [
        "f1_score(y_test, prediction_svm, average='macro')"
      ],
      "execution_count": 32,
      "outputs": [
        {
          "output_type": "stream",
          "text": [
            "/usr/local/lib/python3.6/dist-packages/sklearn/metrics/classification.py:1437: UndefinedMetricWarning: F-score is ill-defined and being set to 0.0 in labels with no predicted samples.\n",
            "  'precision', 'predicted', average, warn_for)\n"
          ],
          "name": "stderr"
        },
        {
          "output_type": "execute_result",
          "data": {
            "text/plain": [
              "0.4866412213740458"
            ]
          },
          "metadata": {
            "tags": []
          },
          "execution_count": 32
        }
      ]
    },
    {
      "cell_type": "code",
      "metadata": {
        "id": "rKjVLIz0APmH",
        "colab_type": "code",
        "outputId": "8c9c3cf7-37bf-47bf-8214-83be88846f98",
        "colab": {
          "base_uri": "https://localhost:8080/",
          "height": 0
        }
      },
      "source": [
        "accuracy_score(y_test, prediction_svm)"
      ],
      "execution_count": 34,
      "outputs": [
        {
          "output_type": "execute_result",
          "data": {
            "text/plain": [
              "0.9479553903345725"
            ]
          },
          "metadata": {
            "tags": []
          },
          "execution_count": 34
        }
      ]
    },
    {
      "cell_type": "code",
      "metadata": {
        "id": "ovcL_ONzAd0M",
        "colab_type": "code",
        "outputId": "eb210566-bcea-4d73-ff4c-e76018be7aa9",
        "colab": {
          "base_uri": "https://localhost:8080/",
          "height": 0
        }
      },
      "source": [
        "confusion_matrix(y_test, prediction_svm)"
      ],
      "execution_count": 35,
      "outputs": [
        {
          "output_type": "execute_result",
          "data": {
            "text/plain": [
              "array([[255,   0],\n",
              "       [ 14,   0]])"
            ]
          },
          "metadata": {
            "tags": []
          },
          "execution_count": 35
        }
      ]
    },
    {
      "cell_type": "markdown",
      "metadata": {
        "id": "Ft5oqUiNyZJi",
        "colab_type": "text"
      },
      "source": [
        "# Paramater Tuning & Validation"
      ]
    },
    {
      "cell_type": "markdown",
      "metadata": {
        "id": "BJVv1d6cyhzj",
        "colab_type": "text"
      },
      "source": [
        "\n",
        "*GridSearchCV\n",
        "---\n",
        "\n",
        "일단 가능한 방법으로 Validation 과 Tuning 을 같이할 GridSearchCV 사용. "
      ]
    },
    {
      "cell_type": "code",
      "metadata": {
        "id": "_BD4pG_OyhPw",
        "colab_type": "code",
        "colab": {}
      },
      "source": [
        "param_grid = {'C': [0.001, 0.01, 0.1, 1, 10, 100],\n",
        "              'gamma': [0.001, 0.01, 0.1, 1, 10, 100]}\n",
        "\n",
        "\n",
        "# param_grid = [{'kernel': ['rbf'],\n",
        "#                'C': [0.001, 0.01, 0.1, 1, 10, 100],\n",
        "#                'gamma': [0.001, 0.01, 0.1, 1, 10, 100]},\n",
        "#               {'kernel': ['linear'],\n",
        "#                'C': [0.001, 0.01, 0.1, 1, 10, 100]}]"
      ],
      "execution_count": 0,
      "outputs": []
    },
    {
      "cell_type": "code",
      "metadata": {
        "id": "zkXLcqYqzqXG",
        "colab_type": "code",
        "colab": {}
      },
      "source": [
        "from sklearn.model_selection import GridSearchCV, StratifiedKFold\n",
        "from sklearn.metrics import f1_score, accuracy_score, confusion_matrix, recall_score, precision_score, make_scorer\n",
        "from sklearn.svm import SVC\n",
        "\n",
        "scorers = {\n",
        "    'recall_score': make_scorer(recall_score),\n",
        "    'accuracy_score': make_scorer(accuracy_score),\n",
        "}\n",
        "\n",
        "# model = SVC(probability=True)\n",
        "skf = StratifiedKFold(n_splits=5)\n",
        "grid_search = GridSearchCV(SVC(), param_grid, cv=skf, return_train_score=True, scoring=scorers, refit='recall_score' )\n",
        "# grid_search = GridSearchCV(SVC(), param_grid, cv=5, return_train_score=True)"
      ],
      "execution_count": 0,
      "outputs": []
    },
    {
      "cell_type": "code",
      "metadata": {
        "id": "K6davdrHzqOI",
        "colab_type": "code",
        "colab": {}
      },
      "source": [
        "grid_search.fit(X_tr_scaled, y_tr)"
      ],
      "execution_count": 0,
      "outputs": []
    },
    {
      "cell_type": "code",
      "metadata": {
        "id": "w2rYtxB7zqLx",
        "colab_type": "code",
        "outputId": "a1b86898-b765-4f93-e10a-a3bc71d4935e",
        "colab": {
          "base_uri": "https://localhost:8080/",
          "height": 35
        }
      },
      "source": [
        "print(\"테스트 셋 점수: {:.2f}\".format(grid_search.score(X_test_scaled, y_test)))"
      ],
      "execution_count": 89,
      "outputs": [
        {
          "output_type": "stream",
          "text": [
            "테스트 셋 점수: 0.15\n"
          ],
          "name": "stdout"
        }
      ]
    },
    {
      "cell_type": "code",
      "metadata": {
        "id": "53zoTKAnzqIC",
        "colab_type": "code",
        "outputId": "9165e8c9-1da2-452f-eeae-e4b5a62f57b3",
        "colab": {
          "base_uri": "https://localhost:8080/",
          "height": 53
        }
      },
      "source": [
        "print(\"최적 매개변수:\", grid_search.best_params_)\n",
        "print(\"최고 교차 검증 점수: {:.2f}\".format(grid_search.best_score_))"
      ],
      "execution_count": 90,
      "outputs": [
        {
          "output_type": "stream",
          "text": [
            "최적 매개변수: {'C': 10, 'gamma': 10}\n",
            "최고 교차 검증 점수: 0.14\n"
          ],
          "name": "stdout"
        }
      ]
    },
    {
      "cell_type": "code",
      "metadata": {
        "id": "ydyHS92S1ist",
        "colab_type": "code",
        "outputId": "f85988cf-45ef-4e8a-be76-5d16564311f9",
        "colab": {
          "base_uri": "https://localhost:8080/",
          "height": 179
        }
      },
      "source": [
        "print(\"최고 성능 모델: \\n\", grid_search.best_estimator_)\n",
        "\n",
        "model = grid_search.best_estimator_\n",
        "model.fit(X_tr_scaled, y_tr)"
      ],
      "execution_count": 91,
      "outputs": [
        {
          "output_type": "stream",
          "text": [
            "최고 성능 모델: \n",
            " SVC(C=10, cache_size=200, class_weight=None, coef0=0.0,\n",
            "    decision_function_shape='ovr', degree=3, gamma=10, kernel='rbf',\n",
            "    max_iter=-1, probability=False, random_state=None, shrinking=True,\n",
            "    tol=0.001, verbose=False)\n"
          ],
          "name": "stdout"
        },
        {
          "output_type": "execute_result",
          "data": {
            "text/plain": [
              "SVC(C=10, cache_size=200, class_weight=None, coef0=0.0,\n",
              "    decision_function_shape='ovr', degree=3, gamma=10, kernel='rbf',\n",
              "    max_iter=-1, probability=False, random_state=None, shrinking=True,\n",
              "    tol=0.001, verbose=False)"
            ]
          },
          "metadata": {
            "tags": []
          },
          "execution_count": 91
        }
      ]
    },
    {
      "cell_type": "code",
      "metadata": {
        "id": "WzWs5-SjG2bT",
        "colab_type": "code",
        "colab": {}
      },
      "source": [
        "\n",
        "pred = model.predict(X_test_scaled)\n",
        "# pred = grid_search.predict(X_test)"
      ],
      "execution_count": 0,
      "outputs": []
    },
    {
      "cell_type": "code",
      "metadata": {
        "id": "NViZf2oxHIC1",
        "colab_type": "code",
        "colab": {
          "base_uri": "https://localhost:8080/",
          "height": 125
        },
        "outputId": "b450f5cc-8b59-4166-e09d-2379021b2c3f"
      },
      "source": [
        "print(f1_score(y_test, pred, average='binary'))\n",
        "print(accuracy_score(y_test, pred))\n",
        "print(recall_score(y_test, pred))\n",
        "print(precision_score(y_test, pred))\n",
        "print(confusion_matrix(y_test, pred))"
      ],
      "execution_count": 93,
      "outputs": [
        {
          "output_type": "stream",
          "text": [
            "0.18181818181818185\n",
            "0.8996282527881041\n",
            "0.15\n",
            "0.23076923076923078\n",
            "[[239  10]\n",
            " [ 17   3]]\n"
          ],
          "name": "stdout"
        }
      ]
    },
    {
      "cell_type": "markdown",
      "metadata": {
        "id": "FzVcXoIHA2fu",
        "colab_type": "text"
      },
      "source": [
        "\n",
        "Heatmap 으로 Score Display\n",
        "---\n",
        "https://github.com/rickiepark/introduction_to_ml_with_python/blob/master/05-model-evaluation-and-improvement.ipynb\n",
        "\n",
        "각 파라메터에 따라 score 값이 어떻게 바뀌는지 보여줌"
      ]
    },
    {
      "cell_type": "code",
      "metadata": {
        "id": "c6KjvrV51m9i",
        "colab_type": "code",
        "colab": {}
      },
      "source": [
        "import pandas as pd\n",
        "pd.set_option('display.max_columns', None)\n",
        "\n",
        "result = pd.DataFrame(grid_search.cv_results_)\n",
        "\n",
        "# display(np.transpose(result.head()))"
      ],
      "execution_count": 0,
      "outputs": []
    },
    {
      "cell_type": "code",
      "metadata": {
        "id": "yxO5WA_i1tiX",
        "colab_type": "code",
        "colab": {}
      },
      "source": [
        "scores = np.array(result.mean_test_score).reshape(6, 6)"
      ],
      "execution_count": 0,
      "outputs": []
    },
    {
      "cell_type": "code",
      "metadata": {
        "id": "WGH19zY_1uza",
        "colab_type": "code",
        "outputId": "76a5a88a-b94f-47b3-eaee-b2ddcbc3c40f",
        "colab": {
          "base_uri": "https://localhost:8080/",
          "height": 301
        }
      },
      "source": [
        "mglearn.tools.heatmap(scores, xlabel = 'gamma', xticklabels=param_grid['gamma'],\n",
        "                     ylabel='C', yticklabels=param_grid['C'], cmap='viridis')"
      ],
      "execution_count": 71,
      "outputs": [
        {
          "output_type": "execute_result",
          "data": {
            "text/plain": [
              "<matplotlib.collections.PolyCollection at 0x7f7a72659780>"
            ]
          },
          "metadata": {
            "tags": []
          },
          "execution_count": 71
        },
        {
          "output_type": "display_data",
          "data": {
            "image/png": "[encoded data removed]",
            "text/plain": [
              "<Figure size 432x288 with 1 Axes>"
            ]
          },
          "metadata": {
            "tags": []
          }
        }
      ]
    },
    {
      "cell_type": "markdown",
      "metadata": {
        "colab_type": "text",
        "id": "JGKjBRt_90_5"
      },
      "source": [
        "\n",
        "GridSearch Scoring 다르게 해보기\n",
        "---\n",
        "https://scikit-learn.org/0.15/auto_examples/grid_search_digits.html\n",
        "\n",
        "참고 - scoring 추가\n",
        "\n",
        "scoring 에 따라 성능이 달라짐을 알 수 있음. precision 을 선택시 무조건 애들을 모두 TN FN에 넣으므로 분모가 0이됨! 주의"
      ]
    },
    {
      "cell_type": "code",
      "metadata": {
        "id": "fzovdXByBKIu",
        "colab_type": "code",
        "colab": {
          "base_uri": "https://localhost:8080/",
          "height": 1000
        },
        "outputId": "dc775b8d-d225-4e0f-859a-2fc4fc9233dc"
      },
      "source": [
        "# Set the parameters by cross-validation\n",
        "from sklearn.metrics import classification_report\n",
        "tuned_parameters = [{'kernel': ['rbf'], 'C': [0.001, 0.01, 0.1, 1, 10, 100],\n",
        "                    'gamma': [0.001, 0.01, 0.1, 1, 10, 100]}]\n",
        "#                     {'kernel': ['linear'], 'C': [1, 10, 100, 1000]}]\n",
        "\n",
        "scores = [None, 'recall'] # 'precision', \n",
        "\n",
        "for score in scores:\n",
        "    print(\"# Tuning hyper-parameters for %s\" % score)\n",
        "    print()\n",
        "\n",
        "    clf = GridSearchCV(SVC(C=1), tuned_parameters, cv=5, scoring=score, return_train_score=True) \n",
        "    clf.fit(X_tr, y_tr)\n",
        "\n",
        "    print(\"Best parameters set found on development set:\")\n",
        "    print()\n",
        "    print(clf.best_estimator_)\n",
        "    print()\n",
        "    print(\"best scores in this score metric\")\n",
        "    print()\n",
        "    print(clf.best_score_)\n",
        "    print()\n",
        "\n",
        "    print(\"Detailed classification report:\")\n",
        "    print()\n",
        "    print(\"The model is trained on the full development set.\")\n",
        "    print(\"The scores are computed on the full evaluation set.\")\n",
        "    print()\n",
        "    y_true, y_pred = y_test, clf.predict(X_test)\n",
        "    print(classification_report(y_true, y_pred))\n",
        "    print()"
      ],
      "execution_count": 73,
      "outputs": [
        {
          "output_type": "stream",
          "text": [
            "# Tuning hyper-parameters for None\n",
            "\n",
            "Best parameters set found on development set:\n",
            "\n",
            "SVC(C=1, cache_size=200, class_weight=None, coef0=0.0,\n",
            "    decision_function_shape='ovr', degree=3, gamma=0.001, kernel='rbf',\n",
            "    max_iter=-1, probability=False, random_state=None, shrinking=True,\n",
            "    tol=0.001, verbose=False)\n",
            "\n",
            "best scores in this score metric\n",
            "\n",
            "0.9456869009584664\n",
            "\n",
            "Detailed classification report:\n",
            "\n",
            "The model is trained on the full development set.\n",
            "The scores are computed on the full evaluation set.\n",
            "\n",
            "              precision    recall  f1-score   support\n",
            "\n",
            "         0.0       0.93      1.00      0.97       249\n",
            "         1.0       1.00      0.10      0.18        20\n",
            "\n",
            "    accuracy                           0.93       269\n",
            "   macro avg       0.97      0.55      0.57       269\n",
            "weighted avg       0.94      0.93      0.91       269\n",
            "\n",
            "\n",
            "# Tuning hyper-parameters for recall\n",
            "\n",
            "Best parameters set found on development set:\n",
            "\n",
            "SVC(C=1, cache_size=200, class_weight=None, coef0=0.0,\n",
            "    decision_function_shape='ovr', degree=3, gamma=0.001, kernel='rbf',\n",
            "    max_iter=-1, probability=False, random_state=None, shrinking=True,\n",
            "    tol=0.001, verbose=False)\n",
            "\n",
            "best scores in this score metric\n",
            "\n",
            "0.10691465084436329\n",
            "\n",
            "Detailed classification report:\n",
            "\n",
            "The model is trained on the full development set.\n",
            "The scores are computed on the full evaluation set.\n",
            "\n",
            "              precision    recall  f1-score   support\n",
            "\n",
            "         0.0       0.93      1.00      0.97       249\n",
            "         1.0       1.00      0.10      0.18        20\n",
            "\n",
            "    accuracy                           0.93       269\n",
            "   macro avg       0.97      0.55      0.57       269\n",
            "weighted avg       0.94      0.93      0.91       269\n",
            "\n",
            "\n"
          ],
          "name": "stdout"
        }
      ]
    },
    {
      "cell_type": "markdown",
      "metadata": {
        "id": "00xjjInZA_bt",
        "colab_type": "text"
      },
      "source": [
        "# 결과 해석 및 튜닝"
      ]
    },
    {
      "cell_type": "markdown",
      "metadata": {
        "id": "LnyKMHGjPq3V",
        "colab_type": "text"
      },
      "source": [
        "\n",
        "*Decision function 에서 threshold 바꾸기\n",
        "---\n",
        "현재 예측에 대한 성능 지표로서 decision_function 이나 predict_proba 를 사용 가능. decisin_functin 의 임계값 기본 0, predict_proba 의 임계값 기본 0.5.\n",
        "\n",
        "> svm 의 경우 predict_proba 가 약간 문제가 있는데, predict 은 기본으로 제공하지만 predict_proba 의 경우 파라메터인 probability=True 로 해주어야 자기 훈련이 끝나고 추가로 svm 의 거리점수에 관해 로지스틱 회기를 훈련 시킴.\n",
        "\n",
        "\n",
        "\n",
        "--> 그러므로 predict 과 predict_proba가 내주는 결과가 달라짐. \n",
        "\n",
        "그래서 decision function 을 사용하기로 생각. 출력이 임의의 값이라 조절에 손작업이 많이 들어가지만 조절해서 일단 넣어둠.\n",
        "\n"
      ]
    },
    {
      "cell_type": "code",
      "metadata": {
        "id": "Co6T1wBkPigp",
        "colab_type": "code",
        "colab": {
          "base_uri": "https://localhost:8080/",
          "height": 179
        },
        "outputId": "2dc9bbc5-5533-419f-b592-025b99f7eb63"
      },
      "source": [
        "from sklearn.metrics import classification_report\n",
        "print(classification_report(y_test, pred))"
      ],
      "execution_count": 74,
      "outputs": [
        {
          "output_type": "stream",
          "text": [
            "              precision    recall  f1-score   support\n",
            "\n",
            "         0.0       0.93      0.96      0.95       249\n",
            "         1.0       0.23      0.15      0.18        20\n",
            "\n",
            "    accuracy                           0.90       269\n",
            "   macro avg       0.58      0.55      0.56       269\n",
            "weighted avg       0.88      0.90      0.89       269\n",
            "\n"
          ],
          "name": "stdout"
        }
      ]
    },
    {
      "cell_type": "markdown",
      "metadata": {
        "id": "uo0cU6TZWQ6M",
        "colab_type": "text"
      },
      "source": [
        "Decision function 에 의해 나오는 값 확인"
      ]
    },
    {
      "cell_type": "code",
      "metadata": {
        "id": "GgO6zTyGT5BA",
        "colab_type": "code",
        "colab": {}
      },
      "source": [
        "pred_dec = model.decision_function(X_test_scaled) "
      ],
      "execution_count": 0,
      "outputs": []
    },
    {
      "cell_type": "code",
      "metadata": {
        "id": "xG6Xsx00Vkdf",
        "colab_type": "code",
        "colab": {
          "base_uri": "https://localhost:8080/",
          "height": 301
        },
        "outputId": "74b33cd4-7332-462b-c21f-67111b5450af"
      },
      "source": [
        "df_pred = pd.DataFrame(pred_dec, columns=['dist'])\n",
        "# dfY.loc[dfY['dist'] <= 0, 'dist'].count()\n",
        "plt.boxplot(pred_dec, manage_xticks=True)\n",
        "plt.xlabel(\"확률\")\n",
        "plt.ylabel(\"값\")"
      ],
      "execution_count": 76,
      "outputs": [
        {
          "output_type": "execute_result",
          "data": {
            "text/plain": [
              "Text(0, 0.5, '값')"
            ]
          },
          "metadata": {
            "tags": []
          },
          "execution_count": 76
        },
        {
          "output_type": "display_data",
          "data": {
            "image/png": "[encoded data removed]",
            "text/plain": [
              "<Figure size 432x288 with 1 Axes>"
            ]
          },
          "metadata": {
            "tags": []
          }
        }
      ]
    },
    {
      "cell_type": "code",
      "metadata": {
        "id": "wecEGBcaXEIV",
        "colab_type": "code",
        "colab": {
          "base_uri": "https://localhost:8080/",
          "height": 297
        },
        "outputId": "5959c083-4c09-418b-ceac-c5c52eddcecf"
      },
      "source": [
        "df_pred.describe()"
      ],
      "execution_count": 77,
      "outputs": [
        {
          "output_type": "execute_result",
          "data": {
            "text/html": [
              "<div>\n",
              "<style scoped>\n",
              "    .dataframe tbody tr th:only-of-type {\n",
              "        vertical-align: middle;\n",
              "    }\n",
              "\n",
              "    .dataframe tbody tr th {\n",
              "        vertical-align: top;\n",
              "    }\n",
              "\n",
              "    .dataframe thead th {\n",
              "        text-align: right;\n",
              "    }\n",
              "</style>\n",
              "<table border=\"1\" class=\"dataframe\">\n",
              "  <thead>\n",
              "    <tr style=\"text-align: right;\">\n",
              "      <th></th>\n",
              "      <th>dist</th>\n",
              "    </tr>\n",
              "  </thead>\n",
              "  <tbody>\n",
              "    <tr>\n",
              "      <th>count</th>\n",
              "      <td>269.000000</td>\n",
              "    </tr>\n",
              "    <tr>\n",
              "      <th>mean</th>\n",
              "      <td>-1.116944</td>\n",
              "    </tr>\n",
              "    <tr>\n",
              "      <th>std</th>\n",
              "      <td>0.569024</td>\n",
              "    </tr>\n",
              "    <tr>\n",
              "      <th>min</th>\n",
              "      <td>-2.943703</td>\n",
              "    </tr>\n",
              "    <tr>\n",
              "      <th>25%</th>\n",
              "      <td>-1.349737</td>\n",
              "    </tr>\n",
              "    <tr>\n",
              "      <th>50%</th>\n",
              "      <td>-1.013585</td>\n",
              "    </tr>\n",
              "    <tr>\n",
              "      <th>75%</th>\n",
              "      <td>-0.959279</td>\n",
              "    </tr>\n",
              "    <tr>\n",
              "      <th>max</th>\n",
              "      <td>1.015464</td>\n",
              "    </tr>\n",
              "  </tbody>\n",
              "</table>\n",
              "</div>"
            ],
            "text/plain": [
              "             dist\n",
              "count  269.000000\n",
              "mean    -1.116944\n",
              "std      0.569024\n",
              "min     -2.943703\n",
              "25%     -1.349737\n",
              "50%     -1.013585\n",
              "75%     -0.959279\n",
              "max      1.015464"
            ]
          },
          "metadata": {
            "tags": []
          },
          "execution_count": 77
        }
      ]
    },
    {
      "cell_type": "code",
      "metadata": {
        "id": "l2H7evVAW10U",
        "colab_type": "code",
        "colab": {
          "base_uri": "https://localhost:8080/",
          "height": 179
        },
        "outputId": "55305fd2-0f3c-422c-8c64-453b31c78dda"
      },
      "source": [
        "pred_lower_threshold = model.decision_function(X_test_scaled) > - 1.2\n",
        "print(classification_report(y_test, pred_lower_threshold))"
      ],
      "execution_count": 81,
      "outputs": [
        {
          "output_type": "stream",
          "text": [
            "              precision    recall  f1-score   support\n",
            "\n",
            "         0.0       0.86      0.31      0.46       249\n",
            "         1.0       0.04      0.35      0.07        20\n",
            "\n",
            "    accuracy                           0.32       269\n",
            "   macro avg       0.45      0.33      0.26       269\n",
            "weighted avg       0.80      0.32      0.43       269\n",
            "\n"
          ],
          "name": "stdout"
        }
      ]
    },
    {
      "cell_type": "code",
      "metadata": {
        "id": "QioYxwtNUEh5",
        "colab_type": "code",
        "colab": {
          "base_uri": "https://localhost:8080/",
          "height": 107
        },
        "outputId": "06a8c041-07a4-43b7-a37d-8b2d74f26acf"
      },
      "source": [
        "print(f1_score(y_test, pred_lower_threshold, average='binary'))\n",
        "print(accuracy_score(y_test, pred_lower_threshold))\n",
        "print(recall_score(y_test, pred_lower_threshold))\n",
        "print(confusion_matrix(y_test, pred_lower_threshold))"
      ],
      "execution_count": 82,
      "outputs": [
        {
          "output_type": "stream",
          "text": [
            "0.0707070707070707\n",
            "0.3159851301115242\n",
            "0.35\n",
            "[[ 78 171]\n",
            " [ 13   7]]\n"
          ],
          "name": "stdout"
        }
      ]
    },
    {
      "cell_type": "markdown",
      "metadata": {
        "id": "wKJS4MIkYPTl",
        "colab_type": "text"
      },
      "source": [
        "\n",
        "\n",
        "*ROC 곡선\n",
        "---\n",
        "\n",
        "\n"
      ]
    },
    {
      "cell_type": "code",
      "metadata": {
        "id": "yzR9sK13YPzc",
        "colab_type": "code",
        "colab": {
          "base_uri": "https://localhost:8080/",
          "height": 301
        },
        "outputId": "db78392d-f7f0-49e4-b2ed-138105b3bdb5"
      },
      "source": [
        "from sklearn.metrics import roc_curve\n",
        "fpr, tpr, thresholds = roc_curve(y_test, model.decision_function(X_test_scaled))\n",
        "\n",
        "plt.plot(fpr, tpr, label=\"ROC curve\")\n",
        "plt.xlabel(\"FPR\")\n",
        "plt.ylabel(\"TPR (재현율)\")\n",
        "# 0 근처의 임계값을 찾습니다\n",
        "close_zero = np.argmin(np.abs(thresholds))\n",
        "plt.plot(fpr[close_zero], tpr[close_zero], 'o', markersize=10,\n",
        "         label=\"임계값 0\", fillstyle=\"none\", c='k', mew=2)\n",
        "plt.legend(loc=4)"
      ],
      "execution_count": 83,
      "outputs": [
        {
          "output_type": "execute_result",
          "data": {
            "text/plain": [
              "<matplotlib.legend.Legend at 0x7f7a725a1be0>"
            ]
          },
          "metadata": {
            "tags": []
          },
          "execution_count": 83
        },
        {
          "output_type": "display_data",
          "data": {
            "image/png": "[encoded data removed]",
            "text/plain": [
              "<Figure size 432x288 with 1 Axes>"
            ]
          },
          "metadata": {
            "tags": []
          }
        }
      ]
    },
    {
      "cell_type": "markdown",
      "metadata": {
        "id": "ObcTRexZ68Z1",
        "colab_type": "text"
      },
      "source": [
        "결과를 보면 매우 안좋음. TPR 이 Recall 을 말하는데 지금도 최하점에 올리기도 마땅치 않음"
      ]
    },
    {
      "cell_type": "markdown",
      "metadata": {
        "id": "YBq0M-pl0eQ7",
        "colab_type": "text"
      },
      "source": [
        "# 위에 한 것들 Wrapper 로 구현"
      ]
    },
    {
      "cell_type": "code",
      "metadata": {
        "id": "vHqowvyq0ocg",
        "colab_type": "code",
        "colab": {}
      },
      "source": [
        "def preprocess_wrapper(df):\n",
        "    df = df.drop(columns = ['tfidf_mean', 'tfidf_var', 'index'], axis = 1)\n",
        "    df.loc[df['label'] == 0, 'label'] = 0.9 # 둘 중 하나 먼저 바꾸면 합쳐져버리므로\n",
        "    df.loc[df['label'] == 1, 'label'] = 0\n",
        "    df.loc[df['label'] == 0.9, 'label'] = 1\n",
        "    return df\n",
        "    \n",
        "def split_scale_wrapper(df):\n",
        "    X_train = df.drop('label', axis=1).values\n",
        "    target_label = df['label'].values\n",
        "    X_tr, X_test, y_tr, y_test = train_test_split(X_train, target_label, test_size=0.3, random_state=2019)\n",
        "    scaler = StandardScaler()\n",
        "    scaler.fit(X_tr)\n",
        "    X_tr_scaled = scaler.transform(X_tr)\n",
        "    X_test_scaled = scaler.transform(X_test)\n",
        "    return X_tr_scaled, y_tr, X_test_scaled, y_test"
      ],
      "execution_count": 0,
      "outputs": []
    },
    {
      "cell_type": "markdown",
      "metadata": {
        "id": "JcBGD_uL7RhJ",
        "colab_type": "text"
      },
      "source": [
        "\n",
        "*데이터셋을 비율별로 나눠주는 Wrapper 함수 구현\n",
        "---\n",
        "인풋 : 데이터 프레임, 자신이 원하는 True 기사의 100퍼센트 기준 비율\n",
        "\n",
        "예 ) 만약 내가 fake, true 를 1:3으로 맞추고 싶다면, 백분위로 환산할시 True 기사의 전체 비율을 75% 이므로 두번째 frac 은 75 를 주어야함"
      ]
    },
    {
      "cell_type": "code",
      "metadata": {
        "id": "w82Cb_N-0oXS",
        "colab_type": "code",
        "colab": {}
      },
      "source": [
        "def new_df_warpper(df, frac):\n",
        "    g = lambda x: x/(100-x)\n",
        "    fake = df[df['label'] == 1]\n",
        "    true = df[df['label'] == 0]\n",
        "    true_frac = true.sample(frac=round((len(fake) * g(frac))/837, 4), random_state=2019)\n",
        "    return fake.append(true_frac, ignore_index=True)\n"
      ],
      "execution_count": 0,
      "outputs": []
    },
    {
      "cell_type": "code",
      "metadata": {
        "id": "X9p66zFJ0oTy",
        "colab_type": "code",
        "colab": {}
      },
      "source": [
        "scorers = {\n",
        "    'recall_score': make_scorer(recall_score),\n",
        "    'accuracy_score': make_scorer(accuracy_score)\n",
        "}"
      ],
      "execution_count": 0,
      "outputs": []
    },
    {
      "cell_type": "code",
      "metadata": {
        "id": "s9Rbf4Rh0oPv",
        "colab_type": "code",
        "colab": {}
      },
      "source": [
        "def grid_search_wrapper(X_tr, y_tr, X_test, y_test, idx, refit_score='recall_score'):\n",
        "    param_grid = {'C': [0.001, 0.01, 0.1, 1, 10, 100],\n",
        "              'gamma': [0.001, 0.01, 0.1, 1, 10, 100]}\n",
        "    \n",
        "    skf = StratifiedKFold(n_splits=5)\n",
        "    grid_search = GridSearchCV(SVC(), param_grid, cv=skf, return_train_score=True, scoring=scorers, refit='recall_score' )\n",
        "    grid_search.fit(X_tr, y_tr)\n",
        "    # make the predictions\n",
        "    pred = grid_search.predict(X_test)\n",
        "\n",
        "    # make a model to get decision function later\n",
        "    model = grid_search.best_estimator_\n",
        "    model.fit(X_tr, y_tr)\n",
        "    \n",
        "    \n",
        "    # calculater scores and save to df\n",
        "    score_df_one = {'recall score': recall_score(y_test, pred),\n",
        "                    'accuracy score': accuracy_score(y_test, pred),\n",
        "                    'f1 score': f1_score(y_test, pred, average='binary')}\n",
        "    \n",
        "    score_df = pd.DataFrame(score_df_one, columns=score_df_one.keys(), index = idx)      \n",
        "          \n",
        "    return grid_search, model, score_df"
      ],
      "execution_count": 0,
      "outputs": []
    },
    {
      "cell_type": "markdown",
      "metadata": {
        "id": "ZjsLidn07Ith",
        "colab_type": "text"
      },
      "source": [
        "\n",
        "*최종결과(threshold 부분 미완성)\n",
        "---\n",
        "\n"
      ]
    },
    {
      "cell_type": "code",
      "metadata": {
        "id": "IiMOlvW90oLw",
        "colab_type": "code",
        "colab": {}
      },
      "source": [
        "df = preprocess_wrapper(result)\n",
        "df_r1 = df.copy()\n",
        "df_r2 = new_df_warpper(df, 50)\n",
        "df_r3 = new_df_warpper(df, 75)\n",
        "df_r4 = new_df_warpper(df, 80)\n",
        "df_r5 = new_df_warpper(df, 90)\n",
        "\n",
        "X_tr_scaled, y_tr, X_test_scaled, y_test = split_scale_wrapper(df_r1)\n",
        "gr_r1, model_r1, scdf_r1 = grid_search_wrapper(X_tr_scaled, y_tr, X_test_scaled, y_test, idx=['r1'])"
      ],
      "execution_count": 0,
      "outputs": []
    },
    {
      "cell_type": "code",
      "metadata": {
        "id": "6NJgvbdm1uzW",
        "colab_type": "code",
        "colab": {}
      },
      "source": [
        "X_tr_scaled, y_tr, X_test_scaled, y_test = split_scale_wrapper(df_r2)\n",
        "gr_r2, model_r2, scdf_r2 = grid_search_wrapper(X_tr_scaled, y_tr, X_test_scaled, y_test, idx=['r2'])"
      ],
      "execution_count": 0,
      "outputs": []
    },
    {
      "cell_type": "code",
      "metadata": {
        "id": "VPaXSakB1yrL",
        "colab_type": "code",
        "colab": {}
      },
      "source": [
        "X_tr_scaled, y_tr, X_test_scaled, y_test = split_scale_wrapper(df_r3)\n",
        "gr_r3, model_r3, scdf_r3 = grid_search_wrapper(X_tr_scaled, y_tr, X_test_scaled, y_test, idx=['r3'])"
      ],
      "execution_count": 0,
      "outputs": []
    },
    {
      "cell_type": "code",
      "metadata": {
        "id": "RZVVNkVl1ym2",
        "colab_type": "code",
        "colab": {}
      },
      "source": [
        "X_tr_scaled, y_tr, X_test_scaled, y_test = split_scale_wrapper(df_r4)\n",
        "gr_r4, model_r4, scdf_r4 = grid_search_wrapper(X_tr_scaled, y_tr, X_test_scaled, y_test, idx=['r4'])"
      ],
      "execution_count": 0,
      "outputs": []
    },
    {
      "cell_type": "code",
      "metadata": {
        "id": "GKSdmG3f1yiX",
        "colab_type": "code",
        "colab": {}
      },
      "source": [
        "X_tr_scaled, y_tr, X_test_scaled, y_test = split_scale_wrapper(df_r5)\n",
        "gr_r5, model_r5, scdf_r5 = grid_search_wrapper(X_tr_scaled, y_tr, X_test_scaled, y_test, idx=['r5'])"
      ],
      "execution_count": 0,
      "outputs": []
    },
    {
      "cell_type": "code",
      "metadata": {
        "id": "a7BYDobj1zL3",
        "colab_type": "code",
        "colab": {}
      },
      "source": [
        "scdf = pd.concat([scdf_r1, scdf_r2, scdf_r3, scdf_r4, scdf_r5])"
      ],
      "execution_count": 0,
      "outputs": []
    },
    {
      "cell_type": "code",
      "metadata": {
        "id": "a-YM3N8w28He",
        "colab_type": "code",
        "colab": {
          "base_uri": "https://localhost:8080/",
          "height": 204
        },
        "outputId": "3be0ea6f-6a31-4b84-d404-5754364c77e2"
      },
      "source": [
        "scdf"
      ],
      "execution_count": 115,
      "outputs": [
        {
          "output_type": "execute_result",
          "data": {
            "text/html": [
              "<div>\n",
              "<style scoped>\n",
              "    .dataframe tbody tr th:only-of-type {\n",
              "        vertical-align: middle;\n",
              "    }\n",
              "\n",
              "    .dataframe tbody tr th {\n",
              "        vertical-align: top;\n",
              "    }\n",
              "\n",
              "    .dataframe thead th {\n",
              "        text-align: right;\n",
              "    }\n",
              "</style>\n",
              "<table border=\"1\" class=\"dataframe\">\n",
              "  <thead>\n",
              "    <tr style=\"text-align: right;\">\n",
              "      <th></th>\n",
              "      <th>recall score</th>\n",
              "      <th>accuracy score</th>\n",
              "      <th>f1 score</th>\n",
              "    </tr>\n",
              "  </thead>\n",
              "  <tbody>\n",
              "    <tr>\n",
              "      <th>r1</th>\n",
              "      <td>0.150000</td>\n",
              "      <td>0.899628</td>\n",
              "      <td>0.181818</td>\n",
              "    </tr>\n",
              "    <tr>\n",
              "      <th>r2</th>\n",
              "      <td>0.550000</td>\n",
              "      <td>0.485714</td>\n",
              "      <td>0.550000</td>\n",
              "    </tr>\n",
              "    <tr>\n",
              "      <th>r3</th>\n",
              "      <td>0.150000</td>\n",
              "      <td>0.642857</td>\n",
              "      <td>0.193548</td>\n",
              "    </tr>\n",
              "    <tr>\n",
              "      <th>r4</th>\n",
              "      <td>0.375000</td>\n",
              "      <td>0.781609</td>\n",
              "      <td>0.387097</td>\n",
              "    </tr>\n",
              "    <tr>\n",
              "      <th>r5</th>\n",
              "      <td>0.217391</td>\n",
              "      <td>0.856322</td>\n",
              "      <td>0.285714</td>\n",
              "    </tr>\n",
              "  </tbody>\n",
              "</table>\n",
              "</div>"
            ],
            "text/plain": [
              "    recall score  accuracy score  f1 score\n",
              "r1      0.150000        0.899628  0.181818\n",
              "r2      0.550000        0.485714  0.550000\n",
              "r3      0.150000        0.642857  0.193548\n",
              "r4      0.375000        0.781609  0.387097\n",
              "r5      0.217391        0.856322  0.285714"
            ]
          },
          "metadata": {
            "tags": []
          },
          "execution_count": 115
        }
      ]
    },
    {
      "cell_type": "markdown",
      "metadata": {
        "id": "7v1qyQCe4YBI",
        "colab_type": "text"
      },
      "source": [
        "threshold 는 결과해석 및 튜닝 - Decision function 파트 참고해서 각각 일일히 분포 확인해가면서 threshold 잡고 해야함. "
      ]
    },
    {
      "cell_type": "markdown",
      "metadata": {
        "id": "HtpTsczpaHHX",
        "colab_type": "text"
      },
      "source": [
        "# 데이터 feature 키우기 \n",
        "\n",
        "지금 상태로는 뭘해도 결과값이 너무 안좋을 것 같아서 feature 자체를 키우려고함. "
      ]
    },
    {
      "cell_type": "markdown",
      "metadata": {
        "id": "x5QMFu8ZaOiN",
        "colab_type": "text"
      },
      "source": [
        ""
      ]
    },
    {
      "cell_type": "code",
      "metadata": {
        "id": "TlLvKciFbQJ_",
        "colab_type": "code",
        "colab": {}
      },
      "source": [
        "# def grid_search_wrapper(refit_score='precision_score'):\n",
        "#     \"\"\"\n",
        "#     fits a GridSearchCV classifier using refit_score for optimization\n",
        "#     prints classifier performance metrics\n",
        "#     \"\"\"\n",
        "#     skf = StratifiedKFold(n_splits=10)\n",
        "#     grid_search = GridSearchCV(clf, param_grid, scoring=scorers, refit=refit_score,\n",
        "#                            cv=skf, return_train_score=True, n_jobs=-1)\n",
        "#     grid_search.fit(X_train.values, y_train.values)\n",
        "\n",
        "#     # make the predictions\n",
        "#     y_pred = grid_search.predict(X_test.values)\n",
        "\n",
        "#     print('Best params for {}'.format(refit_score))\n",
        "#     print(grid_search.best_params_)\n",
        "\n",
        "#     # confusion matrix on the test data.\n",
        "#     print('\\nConfusion matrix of Random Forest optimized for {} on the test data:'.format(refit_score))\n",
        "#     print(pd.DataFrame(confusion_matrix(y_test, y_pred),\n",
        "#                  columns=['pred_neg', 'pred_pos'], index=['neg', 'pos']))\n",
        "#     return grid_search"
      ],
      "execution_count": 0,
      "outputs": []
    }
  ]
}