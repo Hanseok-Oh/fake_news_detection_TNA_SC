{
  "nbformat": 4,
  "nbformat_minor": 0,
  "metadata": {
    "colab": {
      "name": "dataset_eda_1127수정.ipynb",
      "provenance": [],
      "collapsed_sections": [],
      "machine_shape": "hm"
    },
    "kernelspec": {
      "name": "python3",
      "display_name": "Python 3"
    }
  },
  "cells": [
    {
      "cell_type": "markdown",
      "metadata": {
        "id": "3Ga9kFoZP3T3",
        "colab_type": "text"
      },
      "source": [
        "# Ti-CNN 데이터셋 EDA\n",
        "- 참조: https://www.kaggle.com/wil2210/eda-nlp-ml\n",
        "\n",
        "- 11/27 data_preprocessed_1031.tsv 파일에 대해서 재실험 진행"
      ]
    },
    {
      "cell_type": "markdown",
      "metadata": {
        "id": "308qARBUA70R",
        "colab_type": "text"
      },
      "source": [
        "# 환경세팅"
      ]
    },
    {
      "cell_type": "code",
      "metadata": {
        "id": "rU_fxtXYn8sp",
        "colab_type": "code",
        "outputId": "f510c92f-4d1f-4863-a420-6686ddf12e66",
        "colab": {
          "base_uri": "https://localhost:8080/",
          "height": 126
        }
      },
      "source": [
        "from google.colab import drive\n",
        "drive.mount('/content/drive')"
      ],
      "execution_count": 3,
      "outputs": [
        {
          "output_type": "stream",
          "text": [
            "Go to this URL in a browser: https://accounts.google.com/o/oauth2/auth?client_id=947318989803-6bn6qk8qdgf4n4g3pfee6491hc0brc4i.apps.googleusercontent.com&redirect_uri=urn%3aietf%3awg%3aoauth%3a2.0%3aoob&response_type=code&scope=email%20https%3a%2f%2fwww.googleapis.com%2fauth%2fdocs.test%20https%3a%2f%2fwww.googleapis.com%2fauth%2fdrive%20https%3a%2f%2fwww.googleapis.com%2fauth%2fdrive.photos.readonly%20https%3a%2f%2fwww.googleapis.com%2fauth%2fpeopleapi.readonly\n",
            "\n",
            "Enter your authorization code:\n",
            "··········\n",
            "Mounted at /content/drive\n"
          ],
          "name": "stdout"
        }
      ]
    },
    {
      "cell_type": "code",
      "metadata": {
        "id": "aSB8UmvDoPEg",
        "colab_type": "code",
        "outputId": "ede61d2f-568e-4ddc-c023-8f5843b1da30",
        "colab": {
          "base_uri": "https://localhost:8080/",
          "height": 266
        }
      },
      "source": [
        "!ls 'drive/Shared drives/2019_URP_2/data/'"
      ],
      "execution_count": 4,
      "outputs": [
        {
          "output_type": "stream",
          "text": [
            " all_data_0922.csv\t      farm_data\n",
            " all_data_1031.csv\t      re_cooc\n",
            " all_data_mini.csv\t      saved_models\n",
            " all_data_modified.csv\t      save_models\n",
            " cooc\t\t\t      test_tensor_data.pt\n",
            " cooc_mini\t\t      test.tsv\n",
            " cooc.zip\t\t      tfidf\n",
            " data_0922_preprocessed.tsv   toxic-comments\n",
            " data_1031_preprocessed.tsv   train.tsv\n",
            " data_mini_preprocessed.csv   utils.py\n",
            " data_mini_preprocessed.tsv   Wikidata-embeddings\n",
            " EAN_data\t\t      Wikidata-entity_dict\n",
            " experiment_result.gdoc      'Wikidata-knowledge graphs'\n",
            " FARM\n"
          ],
          "name": "stdout"
        }
      ]
    },
    {
      "cell_type": "code",
      "metadata": {
        "id": "lHOchLASoB-O",
        "colab_type": "code",
        "outputId": "b6b3fb52-e2ab-433c-d8c4-c8216c310a1a",
        "colab": {
          "base_uri": "https://localhost:8080/",
          "height": 35
        }
      },
      "source": [
        "%cd 'drive/Shared drives/2019_URP_2/'"
      ],
      "execution_count": 5,
      "outputs": [
        {
          "output_type": "stream",
          "text": [
            "/content/drive/Shared drives/2019_URP_2\n"
          ],
          "name": "stdout"
        }
      ]
    },
    {
      "cell_type": "markdown",
      "metadata": {
        "id": "icf2Ekp9pQLZ",
        "colab_type": "text"
      },
      "source": [
        "# 데이터셋 연동"
      ]
    },
    {
      "cell_type": "code",
      "metadata": {
        "id": "kdfZE3gWpZSd",
        "colab_type": "code",
        "colab": {}
      },
      "source": [
        "import pandas as pd\n",
        "import numpy as np\n",
        "import matplotlib.pyplot as plt\n",
        "import seaborn as sns\n",
        "\n",
        "sns.set\n",
        "%matplotlib inline"
      ],
      "execution_count": 0,
      "outputs": []
    },
    {
      "cell_type": "code",
      "metadata": {
        "id": "-NCUf546fAw1",
        "colab_type": "code",
        "outputId": "6fe33c6b-c800-493b-a0bb-a66ecc2d3dc3",
        "colab": {
          "base_uri": "https://localhost:8080/",
          "height": 266
        }
      },
      "source": [
        "!ls data"
      ],
      "execution_count": 7,
      "outputs": [
        {
          "output_type": "stream",
          "text": [
            " all_data_0922.csv\t      farm_data\n",
            " all_data_1031.csv\t      re_cooc\n",
            " all_data_mini.csv\t      saved_models\n",
            " all_data_modified.csv\t      save_models\n",
            " cooc\t\t\t      test_tensor_data.pt\n",
            " cooc_mini\t\t      test.tsv\n",
            " cooc.zip\t\t      tfidf\n",
            " data_0922_preprocessed.tsv   toxic-comments\n",
            " data_1031_preprocessed.tsv   train.tsv\n",
            " data_mini_preprocessed.csv   utils.py\n",
            " data_mini_preprocessed.tsv   Wikidata-embeddings\n",
            " EAN_data\t\t      Wikidata-entity_dict\n",
            " experiment_result.gdoc      'Wikidata-knowledge graphs'\n",
            " FARM\n"
          ],
          "name": "stdout"
        }
      ]
    },
    {
      "cell_type": "markdown",
      "metadata": {
        "id": "wgE3kYktfIr8",
        "colab_type": "text"
      },
      "source": [
        "URP2/data/data_1031_preprocessed.tsv 데이터가 최종적으로 전처리된 실험에서 사용할 데이터 (11/27 수정-한석)"
      ]
    },
    {
      "cell_type": "code",
      "metadata": {
        "id": "1_XYy_8goe2U",
        "colab_type": "code",
        "outputId": "515b9bf6-8f67-4e5b-b1b2-f378ca523798",
        "colab": {
          "base_uri": "https://localhost:8080/",
          "height": 229
        }
      },
      "source": [
        "# label =0 (real) / label=1 (fake)\n",
        "df = pd.read_csv('data/data_1031_preprocessed.tsv',sep='\\t')\n",
        "print(\"len:\",len(df))\n",
        "print(df.columns)\n",
        "df.head()"
      ],
      "execution_count": 8,
      "outputs": [
        {
          "output_type": "stream",
          "text": [
            "len: 18291\n",
            "Index(['text', 'label'], dtype='object')\n"
          ],
          "name": "stdout"
        },
        {
          "output_type": "execute_result",
          "data": {
            "text/html": [
              "<div>\n",
              "<style scoped>\n",
              "    .dataframe tbody tr th:only-of-type {\n",
              "        vertical-align: middle;\n",
              "    }\n",
              "\n",
              "    .dataframe tbody tr th {\n",
              "        vertical-align: top;\n",
              "    }\n",
              "\n",
              "    .dataframe thead th {\n",
              "        text-align: right;\n",
              "    }\n",
              "</style>\n",
              "<table border=\"1\" class=\"dataframe\">\n",
              "  <thead>\n",
              "    <tr style=\"text-align: right;\">\n",
              "      <th></th>\n",
              "      <th>text</th>\n",
              "      <th>label</th>\n",
              "    </tr>\n",
              "  </thead>\n",
              "  <tbody>\n",
              "    <tr>\n",
              "      <th>0</th>\n",
              "      <td>The F.B.I. warning seal, updated for 2016. Pat...</td>\n",
              "      <td>0</td>\n",
              "    </tr>\n",
              "    <tr>\n",
              "      <th>1</th>\n",
              "      <td>MYRTLE BEACH, S.C. Ted Cruz has a simple messa...</td>\n",
              "      <td>0</td>\n",
              "    </tr>\n",
              "    <tr>\n",
              "      <th>2</th>\n",
              "      <td>A wall of a thousand miles begins with one bri...</td>\n",
              "      <td>0</td>\n",
              "    </tr>\n",
              "    <tr>\n",
              "      <th>3</th>\n",
              "      <td>A group of senators is calling for higher wage...</td>\n",
              "      <td>0</td>\n",
              "    </tr>\n",
              "    <tr>\n",
              "      <th>4</th>\n",
              "      <td>NEW YORK, N.Y.  If Hillary Clinton is winning ...</td>\n",
              "      <td>0</td>\n",
              "    </tr>\n",
              "  </tbody>\n",
              "</table>\n",
              "</div>"
            ],
            "text/plain": [
              "                                                text  label\n",
              "0  The F.B.I. warning seal, updated for 2016. Pat...      0\n",
              "1  MYRTLE BEACH, S.C. Ted Cruz has a simple messa...      0\n",
              "2  A wall of a thousand miles begins with one bri...      0\n",
              "3  A group of senators is calling for higher wage...      0\n",
              "4  NEW YORK, N.Y.  If Hillary Clinton is winning ...      0"
            ]
          },
          "metadata": {
            "tags": []
          },
          "execution_count": 8
        }
      ]
    },
    {
      "cell_type": "code",
      "metadata": {
        "id": "dc82NYdUfWhU",
        "colab_type": "code",
        "outputId": "5c9c201c-066f-4760-de07-248cf6ce022a",
        "colab": {
          "base_uri": "https://localhost:8080/",
          "height": 70
        }
      },
      "source": [
        "df.label.value_counts()"
      ],
      "execution_count": 9,
      "outputs": [
        {
          "output_type": "execute_result",
          "data": {
            "text/plain": [
              "1    10516\n",
              "0     7775\n",
              "Name: label, dtype: int64"
            ]
          },
          "metadata": {
            "tags": []
          },
          "execution_count": 9
        }
      ]
    },
    {
      "cell_type": "code",
      "metadata": {
        "id": "kz65frmZhMmL",
        "colab_type": "code",
        "colab": {
          "base_uri": "https://localhost:8080/",
          "height": 35
        },
        "outputId": "e169e6af-6c64-4d1d-e8cc-6fc21465e003"
      },
      "source": [
        "real = df.loc[df.loc[:,'label']==0,:]\n",
        "fake = df.loc[df.loc[:,'label']==1,:]\n",
        "print(len(real),len(fake))"
      ],
      "execution_count": 10,
      "outputs": [
        {
          "output_type": "stream",
          "text": [
            "7775 10516\n"
          ],
          "name": "stdout"
        }
      ]
    },
    {
      "cell_type": "markdown",
      "metadata": {
        "id": "mK0GS6qdRpD6",
        "colab_type": "text"
      },
      "source": [
        "# Model apply"
      ]
    },
    {
      "cell_type": "markdown",
      "metadata": {
        "id": "0anbLozIWgaf",
        "colab_type": "text"
      },
      "source": [
        "We'll try to combine two models :\n",
        "\n",
        "1) First, we will process over our raw document as intermediate predictions.\n",
        "\n",
        "2) Secondly, we will add our predictions as a new feature in our dataframe features and try ML models over them."
      ]
    },
    {
      "cell_type": "markdown",
      "metadata": {
        "id": "nTMa_59ZdIE1",
        "colab_type": "text"
      },
      "source": [
        "## data setting"
      ]
    },
    {
      "cell_type": "code",
      "metadata": {
        "id": "HC0oalqtRqb9",
        "colab_type": "code",
        "colab": {}
      },
      "source": [
        "from sklearn.model_selection import train_test_split\n",
        "from sklearn.model_selection import cross_val_score"
      ],
      "execution_count": 0,
      "outputs": []
    },
    {
      "cell_type": "code",
      "metadata": {
        "id": "bcRK4SHTRuoy",
        "colab_type": "code",
        "colab": {}
      },
      "source": [
        "X_train,X_test, y_train,y_test = train_test_split(df['text'],df['label'],test_size=0.2,random_state=42,stratify=df['label'])"
      ],
      "execution_count": 0,
      "outputs": []
    },
    {
      "cell_type": "code",
      "metadata": {
        "id": "TdyZUYBqR7kw",
        "colab_type": "code",
        "outputId": "ee579791-7f39-4a47-bba6-867a703b495c",
        "colab": {
          "base_uri": "https://localhost:8080/",
          "height": 35
        }
      },
      "source": [
        "X_train.shape, X_test.shape, y_train.shape, y_test.shape"
      ],
      "execution_count": 13,
      "outputs": [
        {
          "output_type": "execute_result",
          "data": {
            "text/plain": [
              "((14632,), (3659,), (14632,), (3659,))"
            ]
          },
          "metadata": {
            "tags": []
          },
          "execution_count": 13
        }
      ]
    },
    {
      "cell_type": "code",
      "metadata": {
        "id": "3Cu6PxluSFzH",
        "colab_type": "code",
        "colab": {}
      },
      "source": [
        "from sklearn.feature_extraction.text import TfidfVectorizer, CountVectorizer, TfidfTransformer\n",
        "from sklearn.decomposition import TruncatedSVD"
      ],
      "execution_count": 0,
      "outputs": []
    },
    {
      "cell_type": "code",
      "metadata": {
        "id": "M1ArZmRUSJbv",
        "colab_type": "code",
        "colab": {}
      },
      "source": [
        "tvec = TfidfVectorizer(stop_words='english')\n",
        "cvec = CountVectorizer(stop_words='english')\n",
        "transformer = TfidfTransformer(smooth_idf=False)\n",
        "svd = TruncatedSVD(n_components=100, random_state=42)"
      ],
      "execution_count": 0,
      "outputs": []
    },
    {
      "cell_type": "code",
      "metadata": {
        "id": "Nc_fSGm4SMm8",
        "colab_type": "code",
        "outputId": "0f4b0b07-67b6-4c80-ffa8-7ace86c7cc16",
        "colab": {
          "base_uri": "https://localhost:8080/",
          "height": 52
        }
      },
      "source": [
        "tf = tvec.fit_transform(X_train)\n",
        "tf"
      ],
      "execution_count": 16,
      "outputs": [
        {
          "output_type": "execute_result",
          "data": {
            "text/plain": [
              "<14632x130561 sparse matrix of type '<class 'numpy.float64'>'\n",
              "\twith 3851891 stored elements in Compressed Sparse Row format>"
            ]
          },
          "metadata": {
            "tags": []
          },
          "execution_count": 16
        }
      ]
    },
    {
      "cell_type": "code",
      "metadata": {
        "id": "sUOsnR1_j_xi",
        "colab_type": "code",
        "colab": {
          "base_uri": "https://localhost:8080/",
          "height": 52
        },
        "outputId": "964fab96-2d45-4d31-fe37-d5224c6fbc7c"
      },
      "source": [
        "cv = cvec.fit_transform(X_train)\n",
        "cv"
      ],
      "execution_count": 17,
      "outputs": [
        {
          "output_type": "execute_result",
          "data": {
            "text/plain": [
              "<14632x130561 sparse matrix of type '<class 'numpy.int64'>'\n",
              "\twith 3851891 stored elements in Compressed Sparse Row format>"
            ]
          },
          "metadata": {
            "tags": []
          },
          "execution_count": 17
        }
      ]
    },
    {
      "cell_type": "markdown",
      "metadata": {
        "id": "-jI8VJisf6Vt",
        "colab_type": "text"
      },
      "source": [
        "## Preprocessing pipeline"
      ]
    },
    {
      "cell_type": "code",
      "metadata": {
        "id": "BPWvtrbRSZMW",
        "colab_type": "code",
        "colab": {}
      },
      "source": [
        "from sklearn.pipeline import Pipeline"
      ],
      "execution_count": 0,
      "outputs": []
    },
    {
      "cell_type": "code",
      "metadata": {
        "id": "IyCiAXrZSa76",
        "colab_type": "code",
        "colab": {}
      },
      "source": [
        "preprocessing_pipeline = Pipeline( [('tvec', tvec), ('svd', svd)])"
      ],
      "execution_count": 0,
      "outputs": []
    },
    {
      "cell_type": "code",
      "metadata": {
        "id": "a_xnAY47nKbQ",
        "colab_type": "code",
        "colab": {
          "base_uri": "https://localhost:8080/",
          "height": 337
        },
        "outputId": "280ccc0f-33f1-4e7e-bb43-05b57fe100bd"
      },
      "source": [
        "preprocessing_pipeline"
      ],
      "execution_count": 31,
      "outputs": [
        {
          "output_type": "execute_result",
          "data": {
            "text/plain": [
              "Pipeline(memory=None,\n",
              "         steps=[('tvec',\n",
              "                 TfidfVectorizer(analyzer='word', binary=False,\n",
              "                                 decode_error='strict',\n",
              "                                 dtype=<class 'numpy.float64'>,\n",
              "                                 encoding='utf-8', input='content',\n",
              "                                 lowercase=True, max_df=1.0, max_features=None,\n",
              "                                 min_df=1, ngram_range=(1, 1), norm='l2',\n",
              "                                 preprocessor=None, smooth_idf=True,\n",
              "                                 stop_words='english', strip_accents=None,\n",
              "                                 sublinear_tf=False,\n",
              "                                 token_pattern='(?u)\\\\b\\\\w\\\\w+\\\\b',\n",
              "                                 tokenizer=None, use_idf=True,\n",
              "                                 vocabulary=None)),\n",
              "                ('svd',\n",
              "                 TruncatedSVD(algorithm='randomized', n_components=100,\n",
              "                              n_iter=5, random_state=42, tol=0.0))],\n",
              "         verbose=False)"
            ]
          },
          "metadata": {
            "tags": []
          },
          "execution_count": 31
        }
      ]
    },
    {
      "cell_type": "code",
      "metadata": {
        "id": "LG_qYvc5Scgu",
        "colab_type": "code",
        "outputId": "46d73e16-a5d4-4dc0-cd0f-939682d52d72",
        "colab": {
          "base_uri": "https://localhost:8080/",
          "height": 266
        }
      },
      "source": [
        "print(preprocessing_pipeline.fit_transform(X_train).shape)\n",
        "preprocessing_pipeline.fit_transform(X_train)"
      ],
      "execution_count": 27,
      "outputs": [
        {
          "output_type": "stream",
          "text": [
            "(14632, 100)\n"
          ],
          "name": "stdout"
        },
        {
          "output_type": "execute_result",
          "data": {
            "text/plain": [
              "array([[ 0.21959801, -0.10648936, -0.05740094, ...,  0.00352955,\n",
              "        -0.01235936, -0.01359894],\n",
              "       [ 0.13541506, -0.0437668 ,  0.0813913 , ..., -0.00303203,\n",
              "        -0.01524453,  0.03365265],\n",
              "       [ 0.24384703, -0.0308689 , -0.03890444, ...,  0.01039018,\n",
              "         0.00055953, -0.01531939],\n",
              "       ...,\n",
              "       [ 0.21312299, -0.0964052 , -0.10040801, ...,  0.01417563,\n",
              "         0.00246783, -0.00753829],\n",
              "       [ 0.38737838,  0.01308003,  0.18049705, ..., -0.03920439,\n",
              "         0.01139943, -0.00690685],\n",
              "       [ 0.35270401,  0.11091174,  0.15410446, ...,  0.00575194,\n",
              "         0.00785072,  0.00525374]])"
            ]
          },
          "metadata": {
            "tags": []
          },
          "execution_count": 27
        }
      ]
    },
    {
      "cell_type": "markdown",
      "metadata": {
        "id": "VRlIbW-vgFE5",
        "colab_type": "text"
      },
      "source": [
        "# Machine Learning Models"
      ]
    },
    {
      "cell_type": "code",
      "metadata": {
        "id": "BOR_ChhtSfDz",
        "colab_type": "code",
        "colab": {}
      },
      "source": [
        "from sklearn.metrics import confusion_matrix, classification_report"
      ],
      "execution_count": 0,
      "outputs": []
    },
    {
      "cell_type": "code",
      "metadata": {
        "id": "-TyaIi_KuQ_g",
        "colab_type": "code",
        "colab": {}
      },
      "source": [
        "from sklearn.naive_bayes import MultinomialNB\n",
        "mnb = MultinomialNB()\n",
        "from sklearn.ensemble import RandomForestClassifier\n",
        "rf = RandomForestClassifier()\n",
        "from sklearn.linear_model import LogisticRegression\n",
        "lr = LogisticRegression()"
      ],
      "execution_count": 0,
      "outputs": []
    },
    {
      "cell_type": "code",
      "metadata": {
        "id": "_PSBYR_CuQ97",
        "colab_type": "code",
        "colab": {}
      },
      "source": [
        "pipe_mnb = Pipeline([('vectorizer', cvec), ('mnb', mnb)])\n",
        "pipe_rf = Pipeline([('vectorizer', cvec), ('mnb', rf)])\n",
        "pipe_lr = Pipeline([('vectorizer', cvec), ('mnb', lr)])\n",
        "preprocessing_pipeline = Pipeline( [('tvec', tvec), ('svd', svd)])"
      ],
      "execution_count": 0,
      "outputs": []
    },
    {
      "cell_type": "code",
      "metadata": {
        "id": "kEuush0roB53",
        "colab_type": "code",
        "colab": {
          "base_uri": "https://localhost:8080/",
          "height": 88
        },
        "outputId": "42a79883-c7d7-4883-de20-a5283d0fd8f5"
      },
      "source": [
        "scores_mnb = cross_val_score(mnb,cvec.fit_transform(X_train),y_train,cv=5)\n",
        "print('cross-val-score\\n{}'.format(scores_mnb))\n",
        "print('cross-val-score-mean\\n{}'.format(scores_mnb.mean()))"
      ],
      "execution_count": 106,
      "outputs": [
        {
          "output_type": "stream",
          "text": [
            "cross-val-score\n",
            "[0.88349846 0.87495729 0.88038278 0.87183869 0.88140807]\n",
            "cross-val-score-mean\n",
            "0.8784170570227788\n"
          ],
          "name": "stdout"
        }
      ]
    },
    {
      "cell_type": "code",
      "metadata": {
        "id": "2daclEK5utni",
        "colab_type": "code",
        "colab": {
          "base_uri": "https://localhost:8080/",
          "height": 266
        },
        "outputId": "07d053d9-3d0b-45cf-e8bd-8bc9d211d736"
      },
      "source": [
        "scores_rf = cross_val_score(rf,cvec.fit_transform(X_train),y_train,cv=5)\n",
        "print('cross-val-score\\n{}'.format(scores_rf))\n",
        "print('cross-val-score-mean\\n{}'.format(scores_rf.mean()))"
      ],
      "execution_count": 107,
      "outputs": [
        {
          "output_type": "stream",
          "text": [
            "/usr/local/lib/python3.6/dist-packages/sklearn/ensemble/forest.py:245: FutureWarning: The default value of n_estimators will change from 10 in version 0.20 to 100 in 0.22.\n",
            "  \"10 in version 0.20 to 100 in 0.22.\", FutureWarning)\n",
            "/usr/local/lib/python3.6/dist-packages/sklearn/ensemble/forest.py:245: FutureWarning: The default value of n_estimators will change from 10 in version 0.20 to 100 in 0.22.\n",
            "  \"10 in version 0.20 to 100 in 0.22.\", FutureWarning)\n",
            "/usr/local/lib/python3.6/dist-packages/sklearn/ensemble/forest.py:245: FutureWarning: The default value of n_estimators will change from 10 in version 0.20 to 100 in 0.22.\n",
            "  \"10 in version 0.20 to 100 in 0.22.\", FutureWarning)\n",
            "/usr/local/lib/python3.6/dist-packages/sklearn/ensemble/forest.py:245: FutureWarning: The default value of n_estimators will change from 10 in version 0.20 to 100 in 0.22.\n",
            "  \"10 in version 0.20 to 100 in 0.22.\", FutureWarning)\n",
            "/usr/local/lib/python3.6/dist-packages/sklearn/ensemble/forest.py:245: FutureWarning: The default value of n_estimators will change from 10 in version 0.20 to 100 in 0.22.\n",
            "  \"10 in version 0.20 to 100 in 0.22.\", FutureWarning)\n"
          ],
          "name": "stderr"
        },
        {
          "output_type": "stream",
          "text": [
            "cross-val-score\n",
            "[0.86060813 0.86641613 0.84518113 0.85782638 0.86295284]\n",
            "cross-val-score-mean\n",
            "0.8585969224704773\n"
          ],
          "name": "stdout"
        }
      ]
    },
    {
      "cell_type": "code",
      "metadata": {
        "id": "_a_Erc1guvRW",
        "colab_type": "code",
        "colab": {
          "base_uri": "https://localhost:8080/",
          "height": 124
        },
        "outputId": "f3c94560-fedd-4e9d-d08f-91ce09e80922"
      },
      "source": [
        "scores_lr = cross_val_score(lr,cvec.fit_transform(X_train),y_train,cv=5)\n",
        "print('cross-val-score\\n{}'.format(scores_lr))\n",
        "print('cross-val-score-mean\\n{}'.format(scores_lr.mean()))"
      ],
      "execution_count": 108,
      "outputs": [
        {
          "output_type": "stream",
          "text": [
            "/usr/local/lib/python3.6/dist-packages/sklearn/linear_model/logistic.py:432: FutureWarning: Default solver will be changed to 'lbfgs' in 0.22. Specify a solver to silence this warning.\n",
            "  FutureWarning)\n"
          ],
          "name": "stderr"
        },
        {
          "output_type": "stream",
          "text": [
            "cross-val-score\n",
            "[0.93884523 0.94055347 0.93711552 0.93643199 0.94190021]\n",
            "cross-val-score-mean\n",
            "0.9389692823853902\n"
          ],
          "name": "stdout"
        }
      ]
    },
    {
      "cell_type": "markdown",
      "metadata": {
        "id": "Ep0ATZzFfgoI",
        "colab_type": "text"
      },
      "source": [
        "## cv 점수가 가장 높은 Logistic Regression 선택"
      ]
    },
    {
      "cell_type": "markdown",
      "metadata": {
        "id": "UClAMafxpSCa",
        "colab_type": "text"
      },
      "source": [
        "모델에 들어갈 X 데이터가 음수 형태면 안됨! => tfidf + SVD 조합은 음수가 나오기에 전처리로 사용하려면 추가 과정 필요"
      ]
    },
    {
      "cell_type": "code",
      "metadata": {
        "id": "OZmmCUVGS7K2",
        "colab_type": "code",
        "outputId": "3da499e5-3475-462b-b8d0-a92e3cad15d4",
        "colab": {
          "base_uri": "https://localhost:8080/",
          "height": 408
        }
      },
      "source": [
        "pipe_lr.fit(X_train, y_train)"
      ],
      "execution_count": 109,
      "outputs": [
        {
          "output_type": "stream",
          "text": [
            "/usr/local/lib/python3.6/dist-packages/sklearn/linear_model/logistic.py:432: FutureWarning: Default solver will be changed to 'lbfgs' in 0.22. Specify a solver to silence this warning.\n",
            "  FutureWarning)\n"
          ],
          "name": "stderr"
        },
        {
          "output_type": "execute_result",
          "data": {
            "text/plain": [
              "Pipeline(memory=None,\n",
              "         steps=[('vectorizer',\n",
              "                 CountVectorizer(analyzer='word', binary=False,\n",
              "                                 decode_error='strict',\n",
              "                                 dtype=<class 'numpy.int64'>, encoding='utf-8',\n",
              "                                 input='content', lowercase=True, max_df=1.0,\n",
              "                                 max_features=None, min_df=1,\n",
              "                                 ngram_range=(1, 1), preprocessor=None,\n",
              "                                 stop_words='english', strip_accents=None,\n",
              "                                 token_pattern='(?u)\\\\b\\\\w\\\\w+\\\\b',\n",
              "                                 tokenizer=None, vocabulary=None)),\n",
              "                ('mnb',\n",
              "                 LogisticRegression(C=1.0, class_weight=None, dual=False,\n",
              "                                    fit_intercept=True, intercept_scaling=1,\n",
              "                                    l1_ratio=None, max_iter=100,\n",
              "                                    multi_class='warn', n_jobs=None,\n",
              "                                    penalty='l2', random_state=None,\n",
              "                                    solver='warn', tol=0.0001, verbose=0,\n",
              "                                    warm_start=False))],\n",
              "         verbose=False)"
            ]
          },
          "metadata": {
            "tags": []
          },
          "execution_count": 109
        }
      ]
    },
    {
      "cell_type": "code",
      "metadata": {
        "id": "CNAiPq7FS9Ez",
        "colab_type": "code",
        "outputId": "cf763edf-5736-469f-b66e-9e7c61d911ca",
        "colab": {
          "base_uri": "https://localhost:8080/",
          "height": 35
        }
      },
      "source": [
        "y_pred_lr = pipe_lr.predict(X_test)\n",
        "y_pred_lr"
      ],
      "execution_count": 110,
      "outputs": [
        {
          "output_type": "execute_result",
          "data": {
            "text/plain": [
              "array([1, 0, 1, ..., 1, 0, 0])"
            ]
          },
          "metadata": {
            "tags": []
          },
          "execution_count": 110
        }
      ]
    },
    {
      "cell_type": "code",
      "metadata": {
        "id": "AbgwGUsMS_Gx",
        "colab_type": "code",
        "outputId": "0de869da-df90-429a-efb9-c7dccfc0f0d8",
        "colab": {
          "base_uri": "https://localhost:8080/",
          "height": 52
        }
      },
      "source": [
        "cm = confusion_matrix(y_test, y_pred_lr)\n",
        "cm"
      ],
      "execution_count": 111,
      "outputs": [
        {
          "output_type": "execute_result",
          "data": {
            "text/plain": [
              "array([[1440,  115],\n",
              "       [  73, 2031]])"
            ]
          },
          "metadata": {
            "tags": []
          },
          "execution_count": 111
        }
      ]
    },
    {
      "cell_type": "code",
      "metadata": {
        "id": "TxZzOvBzTBJq",
        "colab_type": "code",
        "outputId": "b7a1216e-cf56-4953-98e6-5c79d08173aa",
        "colab": {
          "base_uri": "https://localhost:8080/",
          "height": 177
        }
      },
      "source": [
        "cr = classification_report(y_test, y_pred_lr)\n",
        "print(cr)"
      ],
      "execution_count": 112,
      "outputs": [
        {
          "output_type": "stream",
          "text": [
            "              precision    recall  f1-score   support\n",
            "\n",
            "           0       0.95      0.93      0.94      1555\n",
            "           1       0.95      0.97      0.96      2104\n",
            "\n",
            "    accuracy                           0.95      3659\n",
            "   macro avg       0.95      0.95      0.95      3659\n",
            "weighted avg       0.95      0.95      0.95      3659\n",
            "\n"
          ],
          "name": "stdout"
        }
      ]
    },
    {
      "cell_type": "code",
      "metadata": {
        "id": "7UNAcdRvp6Kz",
        "colab_type": "code",
        "colab": {
          "base_uri": "https://localhost:8080/",
          "height": 35
        },
        "outputId": "5957db2b-c751-4c9a-d61f-cc5d039ba2aa"
      },
      "source": [
        "real_real=X_test.loc[(y_test==0)&(y_pred_lr ==0)]\n",
        "real_fake=X_test.loc[(y_test==0)&(y_pred_lr ==1)]\n",
        "fake_fake=X_test.loc[(y_test==1)&(y_pred_lr ==1)]\n",
        "fake_real=X_test.loc[(y_test==1)&(y_pred_lr ==0)]\n",
        "\n",
        "print(len(real_real),len(real_fake),len(fake_fake),len(fake_real))"
      ],
      "execution_count": 113,
      "outputs": [
        {
          "output_type": "stream",
          "text": [
            "1440 115 2031 73\n"
          ],
          "name": "stdout"
        }
      ]
    },
    {
      "cell_type": "code",
      "metadata": {
        "id": "Cv0zLz-kvw4u",
        "colab_type": "code",
        "colab": {
          "base_uri": "https://localhost:8080/",
          "height": 230
        },
        "outputId": "387db550-6775-40b9-c12b-bb028b05f4f1"
      },
      "source": [
        "fake_fake"
      ],
      "execution_count": 142,
      "outputs": [
        {
          "output_type": "execute_result",
          "data": {
            "text/plain": [
              "11059    Rusia mejora el clima para hacer negocios, seg...\n",
              "11149    Trump Hotels See a YUGE SURGE in Bookings Afte...\n",
              "14494    UN special rapporteur on Palestine blasts Isra...\n",
              "18177    Email Every four years, Americans are treated ...\n",
              "8505     Chart Of The Day: The Great Prosperity (1947-7...\n",
              "                               ...                        \n",
              "10950    Ethnic Cleansing? California Town Now Less Tha...\n",
              "11178    Wikileaks showed that a company linked to Geor...\n",
              "8488     The views expressed herein are the views of th...\n",
              "15944    A sobering new Security Council ( SC ) analyti...\n",
              "15465    Waking Times Black Friday is here, November 25...\n",
              "Name: text, Length: 2031, dtype: object"
            ]
          },
          "metadata": {
            "tags": []
          },
          "execution_count": 142
        }
      ]
    },
    {
      "cell_type": "markdown",
      "metadata": {
        "id": "mwwPrv8Yv--U",
        "colab_type": "text"
      },
      "source": [
        "# EDA"
      ]
    },
    {
      "cell_type": "markdown",
      "metadata": {
        "id": "Tsy8QX1wOEhL",
        "colab_type": "text"
      },
      "source": [
        "## making features"
      ]
    },
    {
      "cell_type": "code",
      "metadata": {
        "id": "4endVwtav_wt",
        "colab_type": "code",
        "colab": {
          "base_uri": "https://localhost:8080/",
          "height": 106
        },
        "outputId": "5f0c4df9-0782-41ae-82d8-6671533d42aa"
      },
      "source": [
        "from nltk.tokenize import word_tokenize\n",
        "from nltk.corpus import stopwords\n",
        "from nltk.stem import PorterStemmer\n",
        "import nltk\n",
        "nltk.download('punkt')\n",
        "nltk.download('stopwords')"
      ],
      "execution_count": 115,
      "outputs": [
        {
          "output_type": "stream",
          "text": [
            "[nltk_data] Downloading package punkt to /root/nltk_data...\n",
            "[nltk_data]   Unzipping tokenizers/punkt.zip.\n",
            "[nltk_data] Downloading package stopwords to /root/nltk_data...\n",
            "[nltk_data]   Unzipping corpora/stopwords.zip.\n"
          ],
          "name": "stdout"
        },
        {
          "output_type": "execute_result",
          "data": {
            "text/plain": [
              "True"
            ]
          },
          "metadata": {
            "tags": []
          },
          "execution_count": 115
        }
      ]
    },
    {
      "cell_type": "code",
      "metadata": {
        "id": "X3ll54kiwEAF",
        "colab_type": "code",
        "colab": {}
      },
      "source": [
        "corpus_rr = [word_tokenize(token) for token in real_real]\n",
        "corpus_rf = [word_tokenize(token) for token in real_fake]\n",
        "corpus_ff = [word_tokenize(token) for token in fake_fake]\n",
        "corpus_fr = [word_tokenize(token) for token in fake_real]"
      ],
      "execution_count": 0,
      "outputs": []
    },
    {
      "cell_type": "code",
      "metadata": {
        "id": "vJKaftFnwFe5",
        "colab_type": "code",
        "colab": {
          "base_uri": "https://localhost:8080/",
          "height": 35
        },
        "outputId": "31f8966d-e168-4232-cba8-688c61c072c9"
      },
      "source": [
        "len(corpus_rr),len(corpus_rf),len(corpus_ff),len(corpus_fr)"
      ],
      "execution_count": 123,
      "outputs": [
        {
          "output_type": "execute_result",
          "data": {
            "text/plain": [
              "(1440, 115, 2031, 73)"
            ]
          },
          "metadata": {
            "tags": []
          },
          "execution_count": 123
        }
      ]
    },
    {
      "cell_type": "code",
      "metadata": {
        "id": "BgVZU8ugwHA_",
        "colab_type": "code",
        "colab": {}
      },
      "source": [
        "lowercase_rr = [[token.lower() for token in doc] for doc in corpus_rr]\n",
        "lowercase_rf = [[token.lower() for token in doc] for doc in corpus_rf]\n",
        "lowercase_ff = [[token.lower() for token in doc] for doc in corpus_ff]\n",
        "lowercase_fr = [[token.lower() for token in doc] for doc in corpus_fr]"
      ],
      "execution_count": 0,
      "outputs": []
    },
    {
      "cell_type": "code",
      "metadata": {
        "id": "7EXnNiWbwG3A",
        "colab_type": "code",
        "colab": {}
      },
      "source": [
        "alphas_rr = [[token for token in doc if token.isalpha()] for doc in lowercase_rr]\n",
        "alphas_rf = [[token for token in doc if token.isalpha()] for doc in lowercase_rf]\n",
        "alphas_ff = [[token for token in doc if token.isalpha()] for doc in lowercase_ff]\n",
        "alphas_fr = [[token for token in doc if token.isalpha()] for doc in lowercase_fr]"
      ],
      "execution_count": 0,
      "outputs": []
    },
    {
      "cell_type": "code",
      "metadata": {
        "id": "3iTX475iwJPs",
        "colab_type": "code",
        "colab": {}
      },
      "source": [
        "stop_words = stopwords.words('english')"
      ],
      "execution_count": 0,
      "outputs": []
    },
    {
      "cell_type": "code",
      "metadata": {
        "id": "H5OLkhMHwKrp",
        "colab_type": "code",
        "colab": {}
      },
      "source": [
        "rr_no_stop = [[token for token in doc if token not in stop_words] for doc in alphas_rr]\n",
        "rf_no_stop = [[token for token in doc if token not in stop_words] for doc in alphas_rf]\n",
        "ff_no_stop = [[token for token in doc if token not in stop_words] for doc in alphas_ff]\n",
        "fr_no_stop = [[token for token in doc if token not in stop_words] for doc in alphas_fr]"
      ],
      "execution_count": 0,
      "outputs": []
    },
    {
      "cell_type": "code",
      "metadata": {
        "id": "bh9cwMhewMVY",
        "colab_type": "code",
        "colab": {}
      },
      "source": [
        "stemmer = PorterStemmer()"
      ],
      "execution_count": 0,
      "outputs": []
    },
    {
      "cell_type": "code",
      "metadata": {
        "id": "s9nFgNiVwNo2",
        "colab_type": "code",
        "colab": {}
      },
      "source": [
        "stemmed_rr = [[stemmer.stem(token) for token in doc] for doc in rr_no_stop]\n",
        "stemmed_rf = [[stemmer.stem(token) for token in doc] for doc in rf_no_stop]\n",
        "stemmed_ff = [[stemmer.stem(token) for token in doc] for doc in ff_no_stop]\n",
        "stemmed_fr = [[stemmer.stem(token) for token in doc] for doc in fr_no_stop]"
      ],
      "execution_count": 0,
      "outputs": []
    },
    {
      "cell_type": "code",
      "metadata": {
        "id": "H_rviiFkwPJ6",
        "colab_type": "code",
        "colab": {}
      },
      "source": [
        "rr_clean_str = [ ' '.join(doc) for doc in stemmed_rr]\n",
        "rf_clean_str = [ ' '.join(doc) for doc in stemmed_rf]\n",
        "ff_clean_str = [ ' '.join(doc) for doc in stemmed_ff]\n",
        "fr_clean_str = [ ' '.join(doc) for doc in stemmed_fr]"
      ],
      "execution_count": 0,
      "outputs": []
    },
    {
      "cell_type": "markdown",
      "metadata": {
        "id": "rmuTBTbiwZ66",
        "colab_type": "text"
      },
      "source": [
        "## Features"
      ]
    },
    {
      "cell_type": "code",
      "metadata": {
        "id": "FNldWUaBwaot",
        "colab_type": "code",
        "colab": {}
      },
      "source": [
        "# number of words\n",
        "nb_words_rr =[len(tokens) for tokens in alphas_rr]\n",
        "nb_words_rf =[len(tokens) for tokens in alphas_rf]\n",
        "nb_words_ff =[len(tokens) for tokens in alphas_ff]\n",
        "nb_words_fr =[len(tokens) for tokens in alphas_fr]"
      ],
      "execution_count": 0,
      "outputs": []
    },
    {
      "cell_type": "code",
      "metadata": {
        "id": "oXs-DVSRwc8r",
        "colab_type": "code",
        "colab": {}
      },
      "source": [
        "# number of unique words\n",
        "alphas_unique_rr = [set(doc) for doc in alphas_rr]\n",
        "alphas_unique_rf = [set(doc) for doc in alphas_rf]\n",
        "alphas_unique_ff = [set(doc) for doc in alphas_ff]\n",
        "alphas_unique_fr = [set(doc) for doc in alphas_fr]"
      ],
      "execution_count": 0,
      "outputs": []
    },
    {
      "cell_type": "code",
      "metadata": {
        "id": "wBWkXHjjwefc",
        "colab_type": "code",
        "colab": {}
      },
      "source": [
        "nb_words_unique_rr = [len(doc)/nb_words_rr[i] for i,doc in enumerate(alphas_unique_rr)]\n",
        "nb_words_unique_rf = [len(doc)/nb_words_rf[i] for i,doc in enumerate(alphas_unique_rf)]\n",
        "nb_words_unique_ff = [len(doc)/nb_words_ff[i] if nb_words_ff[i]!=0 else 0 for i,doc in enumerate(alphas_unique_ff) ]\n",
        "nb_words_unique_fr = [len(doc)/nb_words_fr[i] for i,doc in enumerate(alphas_unique_fr)]"
      ],
      "execution_count": 0,
      "outputs": []
    },
    {
      "cell_type": "code",
      "metadata": {
        "id": "C6SxYPN8wfrS",
        "colab_type": "code",
        "colab": {}
      },
      "source": [
        "# number of characters\n",
        "rr_str = [ ' '.join(doc) for doc in lowercase_rr]\n",
        "rf_str = [ ' '.join(doc) for doc in lowercase_rf]\n",
        "ff_str = [ ' '.join(doc) for doc in lowercase_ff]\n",
        "fr_str = [ ' '.join(doc) for doc in lowercase_fr]"
      ],
      "execution_count": 0,
      "outputs": []
    },
    {
      "cell_type": "code",
      "metadata": {
        "id": "dmQMESAAwhKx",
        "colab_type": "code",
        "colab": {}
      },
      "source": [
        "nb_characters_rr = [len(doc) for doc in rr_str]\n",
        "nb_characters_rf = [len(doc) for doc in rf_str]\n",
        "nb_characters_ff = [len(doc) for doc in ff_str]\n",
        "nb_characters_fr = [len(doc) for doc in fr_str]"
      ],
      "execution_count": 0,
      "outputs": []
    },
    {
      "cell_type": "code",
      "metadata": {
        "id": "52GifoAWwib_",
        "colab_type": "code",
        "colab": {}
      },
      "source": [
        "# number of stopwords\n",
        "rr_stopwords = [[token for token in doc if token in stop_words] for doc in alphas_rr]\n",
        "rf_stopwords = [[token for token in doc if token in stop_words] for doc in alphas_rf]\n",
        "ff_stopwords = [[token for token in doc if token in stop_words] for doc in alphas_ff]\n",
        "fr_stopwords = [[token for token in doc if token in stop_words] for doc in alphas_fr]"
      ],
      "execution_count": 0,
      "outputs": []
    },
    {
      "cell_type": "code",
      "metadata": {
        "id": "Bg9pjfdOwkdc",
        "colab_type": "code",
        "colab": {}
      },
      "source": [
        "nb_stopwords_rr = [len(doc)/nb_words_rr[i] for i,doc in enumerate(rr_stopwords)]\n",
        "nb_stopwords_rf = [len(doc)/nb_words_rf[i] for i,doc in enumerate(rf_stopwords)]\n",
        "nb_stopwords_ff = [len(doc)/nb_words_ff[i] if nb_words_ff[i]!=0 else 0 for i,doc in enumerate(ff_stopwords)]\n",
        "nb_stopwords_fr = [len(doc)/nb_words_fr[i] for i,doc in enumerate(fr_stopwords)]"
      ],
      "execution_count": 0,
      "outputs": []
    },
    {
      "cell_type": "code",
      "metadata": {
        "id": "KmZS0lEAwl67",
        "colab_type": "code",
        "colab": {}
      },
      "source": [
        "# number of punctuations\n",
        "non_alphas_rr = [[token for token in doc if token.isalpha() == False] for doc in lowercase_rr]\n",
        "non_alphas_rf = [[token for token in doc if token.isalpha() == False] for doc in lowercase_rf]\n",
        "non_alphas_ff = [[token for token in doc if token.isalpha() == False] for doc in lowercase_ff]\n",
        "non_alphas_fr = [[token for token in doc if token.isalpha() == False] for doc in lowercase_fr]"
      ],
      "execution_count": 0,
      "outputs": []
    },
    {
      "cell_type": "code",
      "metadata": {
        "id": "XIhPYY_ywnd1",
        "colab_type": "code",
        "colab": {}
      },
      "source": [
        "nb_punctuations_rr = [len(doc) for doc in non_alphas_rr]\n",
        "nb_punctuations_rf = [len(doc) for doc in non_alphas_rf]\n",
        "nb_punctuations_ff = [len(doc) for doc in non_alphas_ff]\n",
        "nb_punctuations_fr = [len(doc) for doc in non_alphas_fr]"
      ],
      "execution_count": 0,
      "outputs": []
    },
    {
      "cell_type": "code",
      "metadata": {
        "id": "NCOsiyiTwouT",
        "colab_type": "code",
        "colab": {}
      },
      "source": [
        "# number of title case words\n",
        "rr_title = [[token for token in doc if token.istitle() == True] for doc in corpus_rr]\n",
        "rf_title = [[token for token in doc if token.istitle() == True] for doc in corpus_rf]\n",
        "ff_title = [[token for token in doc if token.istitle() == True] for doc in corpus_ff]\n",
        "fr_title = [[token for token in doc if token.istitle() == True] for doc in corpus_fr]"
      ],
      "execution_count": 0,
      "outputs": []
    },
    {
      "cell_type": "code",
      "metadata": {
        "id": "Y-NJZCRUwp7m",
        "colab_type": "code",
        "colab": {}
      },
      "source": [
        "nb_title_rr = [len(doc)/nb_words_rr[i] for i,doc in enumerate(rr_title)]\n",
        "nb_title_rf = [len(doc)/nb_words_rf[i] for i,doc in enumerate(rf_title)]\n",
        "nb_title_ff = [len(doc)/nb_words_ff[i] if nb_words_ff[i]!=0 else 0 for i,doc in enumerate(ff_title)]\n",
        "nb_title_fr = [len(doc)/nb_words_fr[i] for i,doc in enumerate(fr_title)]"
      ],
      "execution_count": 0,
      "outputs": []
    },
    {
      "cell_type": "markdown",
      "metadata": {
        "id": "qqIY_N6FIoWR",
        "colab_type": "text"
      },
      "source": [
        "fake_fake 중에서 쓰레기 값이 있어서 nb_words가 아예 없는 경우도 있음"
      ]
    },
    {
      "cell_type": "code",
      "metadata": {
        "id": "crJZLJ0IISyy",
        "colab_type": "code",
        "colab": {
          "base_uri": "https://localhost:8080/",
          "height": 179
        },
        "outputId": "a9bc6b48-ba07-494b-fb02-6e084cde1bfa"
      },
      "source": [
        "print(nb_words_ff[nb_words_ff==0],'\\n')\n",
        "fake_fake.iloc[915,]"
      ],
      "execution_count": 444,
      "outputs": [
        {
          "output_type": "stream",
          "text": [
            "146    0\n",
            "275    0\n",
            "450    0\n",
            "643    0\n",
            "915    0\n",
            "dtype: int64 \n",
            "\n"
          ],
          "name": "stdout"
        },
        {
          "output_type": "execute_result",
          "data": {
            "text/plain": [
              "'0  0  23      ,         ,    .   ,       .        \" \" (  ). \"        .    .     .                     . ,    ,       ,         \", -     ,    Pravda.Ru. \"           .            ,       ,       .   -     \", -  . \"      -      ,        \", -  . \"    -          .      ,       .     -     .   ,          , ,       .   -   ,  ,      ,     \", -   . :'"
            ]
          },
          "metadata": {
            "tags": []
          },
          "execution_count": 444
        }
      ]
    },
    {
      "cell_type": "code",
      "metadata": {
        "id": "ILkjClBSwra8",
        "colab_type": "code",
        "colab": {}
      },
      "source": [
        "df_clean_rr = pd.DataFrame(data = {'text_clean': rr_clean_str})\n",
        "df_clean_rf = pd.DataFrame(data = {'text_clean': rf_clean_str})\n",
        "df_clean_ff = pd.DataFrame(data = {'text_clean': ff_clean_str})\n",
        "df_clean_fr = pd.DataFrame(data = {'text_clean': fr_clean_str})"
      ],
      "execution_count": 0,
      "outputs": []
    },
    {
      "cell_type": "code",
      "metadata": {
        "id": "7uJsHqnWwuCj",
        "colab_type": "code",
        "colab": {}
      },
      "source": [
        "nb_words_rr = pd.Series(nb_words_rr)\n",
        "nb_words_rf = pd.Series(nb_words_rf)\n",
        "nb_words_ff = pd.Series(nb_words_ff)\n",
        "nb_words_fr = pd.Series(nb_words_fr)\n",
        "\n",
        "nb_words_unique_rr = pd.Series(nb_words_unique_rr)\n",
        "nb_words_unique_rf = pd.Series(nb_words_unique_rf)\n",
        "nb_words_unique_ff = pd.Series(nb_words_unique_ff)\n",
        "nb_words_unique_fr = pd.Series(nb_words_unique_fr)\n",
        "\n",
        "nb_characters_rr = pd.Series(nb_characters_rr)\n",
        "nb_characters_rf = pd.Series(nb_characters_rf)\n",
        "nb_characters_ff = pd.Series(nb_characters_ff)\n",
        "nb_characters_fr = pd.Series(nb_characters_fr)\n",
        "\n",
        "nb_stopwords_rr = pd.Series(nb_stopwords_rr)\n",
        "nb_stopwords_rf = pd.Series(nb_stopwords_rf)\n",
        "nb_stopwords_ff = pd.Series(nb_stopwords_ff)\n",
        "nb_stopwords_fr = pd.Series(nb_stopwords_fr)\n",
        "\n",
        "nb_punctuations_rr = pd.Series(nb_punctuations_rr)\n",
        "nb_punctuations_rf = pd.Series(nb_punctuations_rf)\n",
        "nb_punctuations_ff = pd.Series(nb_punctuations_ff)\n",
        "nb_punctuations_fr = pd.Series(nb_punctuations_fr)\n",
        "\n",
        "nb_title_rr = pd.Series(nb_title_rr)\n",
        "nb_title_rf = pd.Series(nb_title_rf)\n",
        "nb_title_ff = pd.Series(nb_title_ff)\n",
        "nb_title_fr = pd.Series(nb_title_fr)"
      ],
      "execution_count": 0,
      "outputs": []
    },
    {
      "cell_type": "code",
      "metadata": {
        "id": "7FV_2Zapwvfc",
        "colab_type": "code",
        "colab": {
          "base_uri": "https://localhost:8080/",
          "height": 194
        },
        "outputId": "4c061b08-8ee7-430b-a1e9-bf1d6a909a19"
      },
      "source": [
        "df_show_rr = pd.concat([df_clean_rr, nb_words_rr, nb_words_unique_rr, nb_characters_rr, nb_stopwords_rr, nb_punctuations_rr, nb_title_rr], axis=1).rename(columns={\n",
        "    0: \"Number of words\", 1: 'Number of unique words', 2: 'Number of characters', 3: 'Number of stopwords', 4: 'Number of punctuations',\n",
        "    5: 'Number of titlecase words'\n",
        "})\n",
        "df_show_rr.head()"
      ],
      "execution_count": 447,
      "outputs": [
        {
          "output_type": "execute_result",
          "data": {
            "text/html": [
              "<div>\n",
              "<style scoped>\n",
              "    .dataframe tbody tr th:only-of-type {\n",
              "        vertical-align: middle;\n",
              "    }\n",
              "\n",
              "    .dataframe tbody tr th {\n",
              "        vertical-align: top;\n",
              "    }\n",
              "\n",
              "    .dataframe thead th {\n",
              "        text-align: right;\n",
              "    }\n",
              "</style>\n",
              "<table border=\"1\" class=\"dataframe\">\n",
              "  <thead>\n",
              "    <tr style=\"text-align: right;\">\n",
              "      <th></th>\n",
              "      <th>text_clean</th>\n",
              "      <th>Number of words</th>\n",
              "      <th>Number of unique words</th>\n",
              "      <th>Number of characters</th>\n",
              "      <th>Number of stopwords</th>\n",
              "      <th>Number of punctuations</th>\n",
              "      <th>Number of titlecase words</th>\n",
              "    </tr>\n",
              "  </thead>\n",
              "  <tbody>\n",
              "    <tr>\n",
              "      <th>0</th>\n",
              "      <td>berlin pope franci call religi commun cathol p...</td>\n",
              "      <td>620</td>\n",
              "      <td>0.488710</td>\n",
              "      <td>4081</td>\n",
              "      <td>0.445161</td>\n",
              "      <td>94</td>\n",
              "      <td>0.153226</td>\n",
              "    </tr>\n",
              "    <tr>\n",
              "      <th>1</th>\n",
              "      <td>new york well got awkward began expect rib pre...</td>\n",
              "      <td>779</td>\n",
              "      <td>0.481386</td>\n",
              "      <td>4870</td>\n",
              "      <td>0.468549</td>\n",
              "      <td>178</td>\n",
              "      <td>0.163030</td>\n",
              "    </tr>\n",
              "    <tr>\n",
              "      <th>2</th>\n",
              "      <td>boston globe offic darren imag lauren dezenski...</td>\n",
              "      <td>552</td>\n",
              "      <td>0.507246</td>\n",
              "      <td>3736</td>\n",
              "      <td>0.413043</td>\n",
              "      <td>86</td>\n",
              "      <td>0.226449</td>\n",
              "    </tr>\n",
              "    <tr>\n",
              "      <th>3</th>\n",
              "      <td>bill want know iran nuclear program deal want ...</td>\n",
              "      <td>156</td>\n",
              "      <td>0.596154</td>\n",
              "      <td>997</td>\n",
              "      <td>0.416667</td>\n",
              "      <td>36</td>\n",
              "      <td>0.243590</td>\n",
              "    </tr>\n",
              "    <tr>\n",
              "      <th>4</th>\n",
              "      <td>cuba complet releas polit prison part last mon...</td>\n",
              "      <td>333</td>\n",
              "      <td>0.561562</td>\n",
              "      <td>2269</td>\n",
              "      <td>0.444444</td>\n",
              "      <td>65</td>\n",
              "      <td>0.210210</td>\n",
              "    </tr>\n",
              "  </tbody>\n",
              "</table>\n",
              "</div>"
            ],
            "text/plain": [
              "                                          text_clean  ...  Number of titlecase words\n",
              "0  berlin pope franci call religi commun cathol p...  ...                   0.153226\n",
              "1  new york well got awkward began expect rib pre...  ...                   0.163030\n",
              "2  boston globe offic darren imag lauren dezenski...  ...                   0.226449\n",
              "3  bill want know iran nuclear program deal want ...  ...                   0.243590\n",
              "4  cuba complet releas polit prison part last mon...  ...                   0.210210\n",
              "\n",
              "[5 rows x 7 columns]"
            ]
          },
          "metadata": {
            "tags": []
          },
          "execution_count": 447
        }
      ]
    },
    {
      "cell_type": "code",
      "metadata": {
        "id": "maii03dkww-A",
        "colab_type": "code",
        "colab": {
          "base_uri": "https://localhost:8080/",
          "height": 194
        },
        "outputId": "55e8d7d1-af5d-40a1-9156-61f1d2380599"
      },
      "source": [
        "df_show_rf = pd.concat([df_clean_rf, nb_words_rf, nb_words_unique_rf, nb_characters_rf, nb_stopwords_rf, nb_punctuations_rf, nb_title_rf], axis=1).rename(columns={\n",
        "    0: \"Number of words\", 1: 'Number of unique words', 2: 'Number of characters', 3: 'Number of stopwords', 4: 'Number of punctuations',\n",
        "    5: 'Number of titlecase words'\n",
        "})\n",
        "df_show_rf.head()"
      ],
      "execution_count": 448,
      "outputs": [
        {
          "output_type": "execute_result",
          "data": {
            "text/html": [
              "<div>\n",
              "<style scoped>\n",
              "    .dataframe tbody tr th:only-of-type {\n",
              "        vertical-align: middle;\n",
              "    }\n",
              "\n",
              "    .dataframe tbody tr th {\n",
              "        vertical-align: top;\n",
              "    }\n",
              "\n",
              "    .dataframe thead th {\n",
              "        text-align: right;\n",
              "    }\n",
              "</style>\n",
              "<table border=\"1\" class=\"dataframe\">\n",
              "  <thead>\n",
              "    <tr style=\"text-align: right;\">\n",
              "      <th></th>\n",
              "      <th>text_clean</th>\n",
              "      <th>Number of words</th>\n",
              "      <th>Number of unique words</th>\n",
              "      <th>Number of characters</th>\n",
              "      <th>Number of stopwords</th>\n",
              "      <th>Number of punctuations</th>\n",
              "      <th>Number of titlecase words</th>\n",
              "    </tr>\n",
              "  </thead>\n",
              "  <tbody>\n",
              "    <tr>\n",
              "      <th>0</th>\n",
              "      <td>new decre russian govern would refus driver li...</td>\n",
              "      <td>97</td>\n",
              "      <td>0.731959</td>\n",
              "      <td>688</td>\n",
              "      <td>0.360825</td>\n",
              "      <td>20</td>\n",
              "      <td>0.134021</td>\n",
              "    </tr>\n",
              "    <tr>\n",
              "      <th>1</th>\n",
              "      <td>clinton campaign react yet anoth ad featur tru...</td>\n",
              "      <td>906</td>\n",
              "      <td>0.450331</td>\n",
              "      <td>5117</td>\n",
              "      <td>0.498896</td>\n",
              "      <td>85</td>\n",
              "      <td>0.112583</td>\n",
              "    </tr>\n",
              "    <tr>\n",
              "      <th>2</th>\n",
              "      <td>duggar deliv stun display deflect longest exer...</td>\n",
              "      <td>706</td>\n",
              "      <td>0.492918</td>\n",
              "      <td>4210</td>\n",
              "      <td>0.484419</td>\n",
              "      <td>104</td>\n",
              "      <td>0.145892</td>\n",
              "    </tr>\n",
              "    <tr>\n",
              "      <th>3</th>\n",
              "      <td>julian assang cancel dramat london balconi add...</td>\n",
              "      <td>412</td>\n",
              "      <td>0.606796</td>\n",
              "      <td>2869</td>\n",
              "      <td>0.373786</td>\n",
              "      <td>66</td>\n",
              "      <td>0.194175</td>\n",
              "    </tr>\n",
              "    <tr>\n",
              "      <th>4</th>\n",
              "      <td>democrat presidenti nomine hillari clinton pic...</td>\n",
              "      <td>151</td>\n",
              "      <td>0.701987</td>\n",
              "      <td>1037</td>\n",
              "      <td>0.397351</td>\n",
              "      <td>30</td>\n",
              "      <td>0.198675</td>\n",
              "    </tr>\n",
              "  </tbody>\n",
              "</table>\n",
              "</div>"
            ],
            "text/plain": [
              "                                          text_clean  ...  Number of titlecase words\n",
              "0  new decre russian govern would refus driver li...  ...                   0.134021\n",
              "1  clinton campaign react yet anoth ad featur tru...  ...                   0.112583\n",
              "2  duggar deliv stun display deflect longest exer...  ...                   0.145892\n",
              "3  julian assang cancel dramat london balconi add...  ...                   0.194175\n",
              "4  democrat presidenti nomine hillari clinton pic...  ...                   0.198675\n",
              "\n",
              "[5 rows x 7 columns]"
            ]
          },
          "metadata": {
            "tags": []
          },
          "execution_count": 448
        }
      ]
    },
    {
      "cell_type": "code",
      "metadata": {
        "colab_type": "code",
        "outputId": "463470b2-c977-4484-d0ac-aa0f0d10ca8e",
        "id": "oKXhqoUn9xHh",
        "colab": {
          "base_uri": "https://localhost:8080/",
          "height": 194
        }
      },
      "source": [
        "df_show_ff = pd.concat([df_clean_ff, nb_words_ff, nb_words_unique_ff, nb_characters_ff, nb_stopwords_ff, nb_punctuations_ff, nb_title_ff], axis=1).rename(columns={\n",
        "    0: \"Number of words\", 1: 'Number of unique words', 2: 'Number of characters', 3: 'Number of stopwords', 4: 'Number of punctuations',\n",
        "    5: 'Number of titlecase words'\n",
        "})\n",
        "df_show_ff.head()"
      ],
      "execution_count": 449,
      "outputs": [
        {
          "output_type": "execute_result",
          "data": {
            "text/html": [
              "<div>\n",
              "<style scoped>\n",
              "    .dataframe tbody tr th:only-of-type {\n",
              "        vertical-align: middle;\n",
              "    }\n",
              "\n",
              "    .dataframe tbody tr th {\n",
              "        vertical-align: top;\n",
              "    }\n",
              "\n",
              "    .dataframe thead th {\n",
              "        text-align: right;\n",
              "    }\n",
              "</style>\n",
              "<table border=\"1\" class=\"dataframe\">\n",
              "  <thead>\n",
              "    <tr style=\"text-align: right;\">\n",
              "      <th></th>\n",
              "      <th>text_clean</th>\n",
              "      <th>Number of words</th>\n",
              "      <th>Number of unique words</th>\n",
              "      <th>Number of characters</th>\n",
              "      <th>Number of stopwords</th>\n",
              "      <th>Number of punctuations</th>\n",
              "      <th>Number of titlecase words</th>\n",
              "    </tr>\n",
              "  </thead>\n",
              "  <tbody>\n",
              "    <tr>\n",
              "      <th>0</th>\n",
              "      <td>rusia mejora el clima para hacer negocio segn ...</td>\n",
              "      <td>269</td>\n",
              "      <td>0.490706</td>\n",
              "      <td>1671</td>\n",
              "      <td>0.055762</td>\n",
              "      <td>55</td>\n",
              "      <td>0.185874</td>\n",
              "    </tr>\n",
              "    <tr>\n",
              "      <th>1</th>\n",
              "      <td>trump hotel see yuge surg book histor win trum...</td>\n",
              "      <td>276</td>\n",
              "      <td>0.572464</td>\n",
              "      <td>1735</td>\n",
              "      <td>0.373188</td>\n",
              "      <td>49</td>\n",
              "      <td>0.365942</td>\n",
              "    </tr>\n",
              "    <tr>\n",
              "      <th>2</th>\n",
              "      <td>un special rapporteur palestin blast isra step...</td>\n",
              "      <td>558</td>\n",
              "      <td>0.564516</td>\n",
              "      <td>3885</td>\n",
              "      <td>0.363799</td>\n",
              "      <td>85</td>\n",
              "      <td>0.197133</td>\n",
              "    </tr>\n",
              "    <tr>\n",
              "      <th>3</th>\n",
              "      <td>email everi four year american treat tawdri sp...</td>\n",
              "      <td>3349</td>\n",
              "      <td>0.319200</td>\n",
              "      <td>21682</td>\n",
              "      <td>0.462825</td>\n",
              "      <td>437</td>\n",
              "      <td>0.125411</td>\n",
              "    </tr>\n",
              "    <tr>\n",
              "      <th>4</th>\n",
              "      <td>chart day great prosper vs great regress david...</td>\n",
              "      <td>83</td>\n",
              "      <td>0.795181</td>\n",
              "      <td>637</td>\n",
              "      <td>0.325301</td>\n",
              "      <td>23</td>\n",
              "      <td>0.469880</td>\n",
              "    </tr>\n",
              "  </tbody>\n",
              "</table>\n",
              "</div>"
            ],
            "text/plain": [
              "                                          text_clean  ...  Number of titlecase words\n",
              "0  rusia mejora el clima para hacer negocio segn ...  ...                   0.185874\n",
              "1  trump hotel see yuge surg book histor win trum...  ...                   0.365942\n",
              "2  un special rapporteur palestin blast isra step...  ...                   0.197133\n",
              "3  email everi four year american treat tawdri sp...  ...                   0.125411\n",
              "4  chart day great prosper vs great regress david...  ...                   0.469880\n",
              "\n",
              "[5 rows x 7 columns]"
            ]
          },
          "metadata": {
            "tags": []
          },
          "execution_count": 449
        }
      ]
    },
    {
      "cell_type": "markdown",
      "metadata": {
        "id": "EJ_UNrfUG7WX",
        "colab_type": "text"
      },
      "source": [
        "NULL check"
      ]
    },
    {
      "cell_type": "code",
      "metadata": {
        "id": "7uTGg3PXExQ2",
        "colab_type": "code",
        "colab": {
          "base_uri": "https://localhost:8080/",
          "height": 248
        },
        "outputId": "81bff077-c4d7-4acc-d0c2-db52d796066d"
      },
      "source": [
        "print(df_show_ff.info())"
      ],
      "execution_count": 450,
      "outputs": [
        {
          "output_type": "stream",
          "text": [
            "<class 'pandas.core.frame.DataFrame'>\n",
            "RangeIndex: 2031 entries, 0 to 2030\n",
            "Data columns (total 7 columns):\n",
            "text_clean                   2031 non-null object\n",
            "Number of words              2031 non-null int64\n",
            "Number of unique words       2031 non-null float64\n",
            "Number of characters         2031 non-null int64\n",
            "Number of stopwords          2031 non-null float64\n",
            "Number of punctuations       2031 non-null int64\n",
            "Number of titlecase words    2031 non-null float64\n",
            "dtypes: float64(3), int64(3), object(1)\n",
            "memory usage: 111.2+ KB\n",
            "None\n"
          ],
          "name": "stdout"
        }
      ]
    },
    {
      "cell_type": "code",
      "metadata": {
        "id": "wpbmhg3qK0Ku",
        "colab_type": "code",
        "colab": {
          "base_uri": "https://localhost:8080/",
          "height": 55
        },
        "outputId": "4fc27ccf-07af-4655-8520-f83cec0a55cf"
      },
      "source": [
        "# nb_title_ff[140:170]\n",
        "fake_fake.iloc[146]"
      ],
      "execution_count": 451,
      "outputs": [
        {
          "output_type": "execute_result",
          "data": {
            "text/plain": [
              "'0  0   Pravda.Ru    ,         2,5-3      .     -  -        ,  .      (), \"         .     2,5-3 \".  ,   -        . , \"\"  778      22:21        .    22:45           ,    -     .         22:45        \"\".    -  30    . \"            \", -   . .  ,      \"\"             .   -  \"\",     ,     3          77.     ,           ,      .          ,       .    \"\",       ,       .        ,   ,     \"\".    \"\",         ,    .    200   .     ,   ,  ,    ,         ,        .      ,             .      ,      .        .     .    Pravda.Ru   :'"
            ]
          },
          "metadata": {
            "tags": []
          },
          "execution_count": 451
        }
      ]
    },
    {
      "cell_type": "code",
      "metadata": {
        "id": "rOWc275R7iUE",
        "colab_type": "code",
        "colab": {
          "base_uri": "https://localhost:8080/",
          "height": 194
        },
        "outputId": "a4c73951-5484-4aed-eb9e-5828e0e2e84b"
      },
      "source": [
        "df_show_fr = pd.concat([df_clean_fr, nb_words_fr, nb_words_unique_fr, nb_characters_fr, nb_stopwords_fr, nb_punctuations_fr, nb_title_fr], axis=1).rename(columns={\n",
        "    0: \"Number of words\", 1: 'Number of unique words', 2: 'Number of characters', 3: 'Number of stopwords', 4: 'Number of punctuations',\n",
        "    5: 'Number of titlecase words'\n",
        "})\n",
        "df_show_fr.head()"
      ],
      "execution_count": 452,
      "outputs": [
        {
          "output_type": "execute_result",
          "data": {
            "text/html": [
              "<div>\n",
              "<style scoped>\n",
              "    .dataframe tbody tr th:only-of-type {\n",
              "        vertical-align: middle;\n",
              "    }\n",
              "\n",
              "    .dataframe tbody tr th {\n",
              "        vertical-align: top;\n",
              "    }\n",
              "\n",
              "    .dataframe thead th {\n",
              "        text-align: right;\n",
              "    }\n",
              "</style>\n",
              "<table border=\"1\" class=\"dataframe\">\n",
              "  <thead>\n",
              "    <tr style=\"text-align: right;\">\n",
              "      <th></th>\n",
              "      <th>text_clean</th>\n",
              "      <th>Number of words</th>\n",
              "      <th>Number of unique words</th>\n",
              "      <th>Number of characters</th>\n",
              "      <th>Number of stopwords</th>\n",
              "      <th>Number of punctuations</th>\n",
              "      <th>Number of titlecase words</th>\n",
              "    </tr>\n",
              "  </thead>\n",
              "  <tbody>\n",
              "    <tr>\n",
              "      <th>0</th>\n",
              "      <td>us impun erod world justic deficit hysteria in...</td>\n",
              "      <td>699</td>\n",
              "      <td>0.580830</td>\n",
              "      <td>4660</td>\n",
              "      <td>0.409156</td>\n",
              "      <td>82</td>\n",
              "      <td>0.198856</td>\n",
              "    </tr>\n",
              "    <tr>\n",
              "      <th>1</th>\n",
              "      <td>email hafnarfjorur iceland vote turnout elect ...</td>\n",
              "      <td>1086</td>\n",
              "      <td>0.429098</td>\n",
              "      <td>6973</td>\n",
              "      <td>0.485267</td>\n",
              "      <td>194</td>\n",
              "      <td>0.124309</td>\n",
              "    </tr>\n",
              "    <tr>\n",
              "      <th>2</th>\n",
              "      <td>email branch offic pentagon militari allianc b...</td>\n",
              "      <td>1314</td>\n",
              "      <td>0.441400</td>\n",
              "      <td>8347</td>\n",
              "      <td>0.465753</td>\n",
              "      <td>133</td>\n",
              "      <td>0.177321</td>\n",
              "    </tr>\n",
              "    <tr>\n",
              "      <th>3</th>\n",
              "      <td>subscrib dear gop presidenti candid donald tru...</td>\n",
              "      <td>874</td>\n",
              "      <td>0.437071</td>\n",
              "      <td>4866</td>\n",
              "      <td>0.525172</td>\n",
              "      <td>81</td>\n",
              "      <td>0.107551</td>\n",
              "    </tr>\n",
              "    <tr>\n",
              "      <th>4</th>\n",
              "      <td>print republican nation committe spokesman sea...</td>\n",
              "      <td>139</td>\n",
              "      <td>0.647482</td>\n",
              "      <td>962</td>\n",
              "      <td>0.417266</td>\n",
              "      <td>15</td>\n",
              "      <td>0.194245</td>\n",
              "    </tr>\n",
              "  </tbody>\n",
              "</table>\n",
              "</div>"
            ],
            "text/plain": [
              "                                          text_clean  ...  Number of titlecase words\n",
              "0  us impun erod world justic deficit hysteria in...  ...                   0.198856\n",
              "1  email hafnarfjorur iceland vote turnout elect ...  ...                   0.124309\n",
              "2  email branch offic pentagon militari allianc b...  ...                   0.177321\n",
              "3  subscrib dear gop presidenti candid donald tru...  ...                   0.107551\n",
              "4  print republican nation committe spokesman sea...  ...                   0.194245\n",
              "\n",
              "[5 rows x 7 columns]"
            ]
          },
          "metadata": {
            "tags": []
          },
          "execution_count": 452
        }
      ]
    },
    {
      "cell_type": "markdown",
      "metadata": {
        "id": "PI45Y5RpyQIV",
        "colab_type": "text"
      },
      "source": [
        "## plot each feautures"
      ]
    },
    {
      "cell_type": "markdown",
      "metadata": {
        "id": "5LdYY9RD45UO",
        "colab_type": "text"
      },
      "source": [
        "### 1.Number of words"
      ]
    },
    {
      "cell_type": "code",
      "metadata": {
        "id": "hVRhs6-X4nwi",
        "colab_type": "code",
        "outputId": "03f96908-1289-4358-df18-d914d645c6f3",
        "colab": {
          "base_uri": "https://localhost:8080/",
          "height": 352
        }
      },
      "source": [
        "'''['text_clean', 'Number of words', 'Number of unique words',\n",
        "       'Number of characters', 'Number of stopwords', 'Number of punctuations',\n",
        "       'Number of titlecase words']\n",
        "'''\n",
        "plt.figure(figsize=(10,5))\n",
        "sns.distplot(df_show_rr['Number of words'],label='real_real')\n",
        "sns.distplot(df_show_rf['Number of words'],label='real_fake')\n",
        "sns.distplot(df_show_ff['Number of words'],label='fake_fake')\n",
        "sns.distplot(df_show_fr['Number of words'],label='fake_real')\n",
        "plt.legend()"
      ],
      "execution_count": 453,
      "outputs": [
        {
          "output_type": "execute_result",
          "data": {
            "text/plain": [
              "<matplotlib.legend.Legend at 0x7ff8f9172fd0>"
            ]
          },
          "metadata": {
            "tags": []
          },
          "execution_count": 453
        },
        {
          "output_type": "display_data",
          "data": {
            "image/png": "[encoded data removed]",
            "text/plain": [
              "<Figure size 720x360 with 1 Axes>"
            ]
          },
          "metadata": {
            "tags": []
          }
        }
      ]
    },
    {
      "cell_type": "markdown",
      "metadata": {
        "id": "Z12PhMuU5Cod",
        "colab_type": "text"
      },
      "source": [
        "### 2.Number of unique words"
      ]
    },
    {
      "cell_type": "code",
      "metadata": {
        "id": "uufLxlfH4yXt",
        "colab_type": "code",
        "outputId": "b946fea0-ab91-47fb-d1bf-bd99f570f49d",
        "colab": {
          "base_uri": "https://localhost:8080/",
          "height": 352
        }
      },
      "source": [
        "'''['text_clean', 'Number of words', 'Number of unique words',\n",
        "       'Number of characters', 'Number of stopwords', 'Number of punctuations',\n",
        "       'Number of titlecase words']\n",
        "'''\n",
        "plt.figure(figsize=(10,5))\n",
        "sns.distplot(df_show_rr['Number of unique words'],label='real_real',)\n",
        "sns.distplot(df_show_rf['Number of unique words'],label='real_fake')\n",
        "sns.distplot(df_show_ff['Number of unique words'],label='fake_fake')\n",
        "sns.distplot(df_show_fr['Number of unique words'],label='fake_real')\n",
        "plt.legend()"
      ],
      "execution_count": 454,
      "outputs": [
        {
          "output_type": "execute_result",
          "data": {
            "text/plain": [
              "<matplotlib.legend.Legend at 0x7ff8fb8facc0>"
            ]
          },
          "metadata": {
            "tags": []
          },
          "execution_count": 454
        },
        {
          "output_type": "display_data",
          "data": {
            "image/png": "[encoded data removed]",
            "text/plain": [
              "<Figure size 720x360 with 1 Axes>"
            ]
          },
          "metadata": {
            "tags": []
          }
        }
      ]
    },
    {
      "cell_type": "markdown",
      "metadata": {
        "id": "sJ5PLpBp5nYo",
        "colab_type": "text"
      },
      "source": [
        "### 4.Number of characters"
      ]
    },
    {
      "cell_type": "code",
      "metadata": {
        "id": "PWFpO5vC5Bwc",
        "colab_type": "code",
        "outputId": "a0a0352e-bac9-4a9d-9bcc-d33bca1f81f9",
        "colab": {
          "base_uri": "https://localhost:8080/",
          "height": 352
        }
      },
      "source": [
        "'''['text_clean', 'Number of words', 'Number of unique words',\n",
        "       'Number of characters', 'Number of stopwords', 'Number of punctuations',\n",
        "       'Number of titlecase words']\n",
        "'''\n",
        "\n",
        "plt.figure(figsize=(10,5))\n",
        "sns.distplot(df_show_rr['Number of characters'],label='real_real')\n",
        "sns.distplot(df_show_rf['Number of characters'],label='real_fake')\n",
        "sns.distplot(df_show_ff['Number of characters'],label='fake_fake')\n",
        "sns.distplot(df_show_fr['Number of characters'],label='fake_real')\n",
        "plt.legend()"
      ],
      "execution_count": 455,
      "outputs": [
        {
          "output_type": "execute_result",
          "data": {
            "text/plain": [
              "<matplotlib.legend.Legend at 0x7ff8f8e801d0>"
            ]
          },
          "metadata": {
            "tags": []
          },
          "execution_count": 455
        },
        {
          "output_type": "display_data",
          "data": {
            "image/png": "[encoded data removed]",
            "text/plain": [
              "<Figure size 720x360 with 1 Axes>"
            ]
          },
          "metadata": {
            "tags": []
          }
        }
      ]
    },
    {
      "cell_type": "markdown",
      "metadata": {
        "id": "dxg1_KWf5xmj",
        "colab_type": "text"
      },
      "source": [
        "### 5.Number of stopwords"
      ]
    },
    {
      "cell_type": "code",
      "metadata": {
        "id": "PhTtqz6b5l8k",
        "colab_type": "code",
        "outputId": "e65be6a7-a885-4948-fc70-4d5866e18304",
        "colab": {
          "base_uri": "https://localhost:8080/",
          "height": 352
        }
      },
      "source": [
        "'''['text_clean', 'Number of words', 'Number of unique words',\n",
        "       'Number of characters', 'Number of stopwords', 'Number of punctuations',\n",
        "       'Number of titlecase words']\n",
        "'''\n",
        "plt.figure(figsize=(10,5))\n",
        "sns.distplot(df_show_rr['Number of stopwords'],label='real_real')\n",
        "sns.distplot(df_show_rf['Number of stopwords'],label='real_fake')\n",
        "sns.distplot(df_show_ff['Number of stopwords'],label='fake_fake')\n",
        "sns.distplot(df_show_fr['Number of stopwords'],label='fake_real')\n",
        "plt.legend()"
      ],
      "execution_count": 456,
      "outputs": [
        {
          "output_type": "execute_result",
          "data": {
            "text/plain": [
              "<matplotlib.legend.Legend at 0x7ff8fbff9e80>"
            ]
          },
          "metadata": {
            "tags": []
          },
          "execution_count": 456
        },
        {
          "output_type": "display_data",
          "data": {
            "image/png": "[encoded data removed]",
            "text/plain": [
              "<Figure size 720x360 with 1 Axes>"
            ]
          },
          "metadata": {
            "tags": []
          }
        }
      ]
    },
    {
      "cell_type": "markdown",
      "metadata": {
        "id": "bU_6ZTmF579J",
        "colab_type": "text"
      },
      "source": [
        "### 6.Number of puctuations"
      ]
    },
    {
      "cell_type": "code",
      "metadata": {
        "id": "TWAejZWU5wld",
        "colab_type": "code",
        "outputId": "d08060e3-3233-461d-b93d-b0635cd2b146",
        "colab": {
          "base_uri": "https://localhost:8080/",
          "height": 352
        }
      },
      "source": [
        "'''['text_clean', 'Number of words', 'Number of unique words',\n",
        "       'Number of characters', 'Number of stopwords', 'Number of punctuations',\n",
        "       'Number of titlecase words']\n",
        "'''\n",
        "\n",
        "plt.figure(figsize=(10,5))\n",
        "sns.distplot(df_show_rr['Number of punctuations'],label='real_real')\n",
        "sns.distplot(df_show_rf['Number of punctuations'],label='real_fake')\n",
        "sns.distplot(df_show_ff['Number of punctuations'],label='fake_fake')\n",
        "sns.distplot(df_show_fr['Number of punctuations'],label='fake_real')\n",
        "plt.legend()"
      ],
      "execution_count": 457,
      "outputs": [
        {
          "output_type": "execute_result",
          "data": {
            "text/plain": [
              "<matplotlib.legend.Legend at 0x7ff8fb9174e0>"
            ]
          },
          "metadata": {
            "tags": []
          },
          "execution_count": 457
        },
        {
          "output_type": "display_data",
          "data": {
            "image/png": "[encoded data removed]",
            "text/plain": [
              "<Figure size 720x360 with 1 Axes>"
            ]
          },
          "metadata": {
            "tags": []
          }
        }
      ]
    },
    {
      "cell_type": "markdown",
      "metadata": {
        "id": "G0Q5qwQe6FpZ",
        "colab_type": "text"
      },
      "source": [
        "### 7.Number of titlecase words"
      ]
    },
    {
      "cell_type": "code",
      "metadata": {
        "id": "kslLFlTt57VT",
        "colab_type": "code",
        "outputId": "79a9c54f-a784-4920-9a3f-90613163231b",
        "colab": {
          "base_uri": "https://localhost:8080/",
          "height": 352
        }
      },
      "source": [
        "'''['text_clean', 'Number of words', 'Number of unique words',\n",
        "       'Number of characters', 'Number of stopwords', 'Number of punctuations',\n",
        "       'Number of titlecase words']\n",
        "'''\n",
        "\n",
        "plt.figure(figsize=(10,5))\n",
        "sns.distplot(df_show_rr['Number of titlecase words'],label='real_real')\n",
        "sns.distplot(df_show_rf['Number of titlecase words'],label='real_fake')\n",
        "sns.distplot(df_show_ff['Number of titlecase words'],label='fake_fake')\n",
        "sns.distplot(df_show_fr['Number of titlecase words'],label='fake_real')\n",
        "plt.legend()\n"
      ],
      "execution_count": 459,
      "outputs": [
        {
          "output_type": "execute_result",
          "data": {
            "text/plain": [
              "<matplotlib.legend.Legend at 0x7ff8fb89ac50>"
            ]
          },
          "metadata": {
            "tags": []
          },
          "execution_count": 459
        },
        {
          "output_type": "display_data",
          "data": {
            "image/png": "[encoded data removed]",
            "text/plain": [
              "<Figure size 720x360 with 1 Axes>"
            ]
          },
          "metadata": {
            "tags": []
          }
        }
      ]
    }
  ]
}